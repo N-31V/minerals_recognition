{
 "cells": [
  {
   "cell_type": "code",
   "execution_count": null,
   "outputs": [],
   "source": [
    "import sys\n",
    "import os\n",
    "import pandas as pd\n",
    "sys.path.append('../../../Fedot.Industrial')\n",
    "from fedot_ind.core.architecture.postprocessing.cv_results_parser import *"
   ],
   "metadata": {
    "collapsed": false,
    "ExecuteTime": {
     "start_time": "2023-05-02T18:41:20.067283Z",
     "end_time": "2023-05-02T18:41:20.414960Z"
    }
   }
  },
  {
   "cell_type": "code",
   "execution_count": null,
   "outputs": [],
   "source": [
    "exp_root = '/media/n31v/data/results/minerals200'\n",
    "exps = os.listdir(exp_root)"
   ],
   "metadata": {
    "collapsed": false,
    "ExecuteTime": {
     "start_time": "2023-05-02T12:28:15.803421Z",
     "end_time": "2023-05-02T12:28:15.817367Z"
    }
   }
  },
  {
   "cell_type": "code",
   "execution_count": null,
   "outputs": [],
   "source": [
    "for exp in filter(lambda x: True, exps):\n",
    "    path = os.path.join(exp_root, exp)\n",
    "    try:\n",
    "        create_mean_exp(path)\n",
    "        print(path)\n",
    "    except Exception as e:\n",
    "        print(e)\n",
    "print('Done')"
   ],
   "metadata": {
    "collapsed": false,
    "ExecuteTime": {
     "start_time": "2023-05-02T12:28:19.595422Z",
     "end_time": "2023-05-02T12:28:47.437448Z"
    }
   }
  },
  {
   "cell_type": "code",
   "execution_count": null,
   "outputs": [],
   "source": [
    "import shutil\n",
    "for exp in filter(lambda x: True, exps):\n",
    "    path = os.path.join(exp_root, exp, 'mean')\n",
    "    try:\n",
    "        shutil.rmtree(path)\n",
    "        print(f'{path} removed.')\n",
    "    except Exception as e:\n",
    "        print(e)"
   ],
   "metadata": {
    "collapsed": false,
    "ExecuteTime": {
     "start_time": "2023-04-24T16:39:33.171899Z",
     "end_time": "2023-04-24T16:39:33.199039Z"
    }
   }
  },
  {
   "cell_type": "code",
   "execution_count": null,
   "outputs": [],
   "source": [
    "from typing import Dict\n",
    "\n",
    "def exp_list(config: Dict, folds = [0, 1],  n = [0, 1, 2, 3, 4]):\n",
    "    pruning_ratio = [p['pruning_ratio'] for p in config['sfp_params']['zeroing']['percentage']]\n",
    "    energy_threshold = [e['energy_threshold'] for e in config['sfp_params']['zeroing']['energy']]\n",
    "    hoer_loss_factor = config['svd_params']['hoer_loss_factor']\n",
    "    orthogonal_loss_factor = config['svd_params']['orthogonal_loss_factor']\n",
    "    root = f\"/media/n31v/data/results/{config['ds_name']}/{config['model_name']}\"\n",
    "    exps = {'Baseline': f\"{root}/mean\"}\n",
    "    sfp_exps = {\n",
    "        'energy': {f'SFP energy {e}': f'{root}_SFP_energy_threshold-{e}/mean' for e in energy_threshold},\n",
    "        'percentage': {f'SFP {pr * 100}%': f'{root}_SFP_pruning_ratio-{pr}/mean' for pr in pruning_ratio},\n",
    "    }\n",
    "\n",
    "    svd_exps = {\n",
    "        'channel': {f'Hoer {hoer} Ort {ort}': f'{root}_SVD_channel_O-{ort}_H-{hoer}/mean' for hoer in hoer_loss_factor for ort in orthogonal_loss_factor},\n",
    "        'spatial': {f'Hoer {hoer} Ort {ort}': f'{root}_SVD_spatial_O-{ort}_H-{hoer}/mean' for hoer in hoer_loss_factor for ort in orthogonal_loss_factor},\n",
    "    }\n",
    "    return exps, sfp_exps, svd_exps"
   ],
   "metadata": {
    "collapsed": false,
    "ExecuteTime": {
     "start_time": "2023-05-02T18:41:20.424894Z",
     "end_time": "2023-05-02T18:41:20.426347Z"
    }
   }
  },
  {
   "cell_type": "code",
   "execution_count": null,
   "outputs": [],
   "source": [
    "from exp_parameters import TASKS\n",
    "ds_name = 'minerals200'\n",
    "baseline, sfp_exps, svd_exps = exp_list(TASKS[ds_name])\n",
    "svd_channel = compare_svd_results(\n",
    "    baseline=baseline['Baseline'],\n",
    "    svd_exps=svd_exps['channel'],\n",
    "    metric='f1'\n",
    ")\n",
    "svd_spatial = compare_svd_results(\n",
    "    baseline=baseline['Baseline'],\n",
    "    svd_exps=svd_exps['spatial'],\n",
    "    metric='f1'\n",
    ")\n",
    "sfp_energy = compare_sfp_results(\n",
    "    baseline=baseline['Baseline'],\n",
    "    sfp_exps=sfp_exps['energy'],\n",
    "    metric='f1'\n",
    ")\n",
    "sfp_per = compare_sfp_results(\n",
    "    baseline=baseline['Baseline'],\n",
    "    sfp_exps=sfp_exps['percentage'],\n",
    "    metric='f1'\n",
    ")\n",
    "get_best_metric(\n",
    "    exp_path=baseline['Baseline'],\n",
    "    metric='f1'\n",
    ")"
   ],
   "metadata": {
    "collapsed": false,
    "ExecuteTime": {
     "start_time": "2023-05-02T18:45:11.035085Z",
     "end_time": "2023-05-02T18:45:13.943885Z"
    }
   }
  },
  {
   "cell_type": "code",
   "execution_count": null,
   "outputs": [],
   "source": [
    "svd_channel['Hoer 0.1 Ort 10']"
   ],
   "metadata": {
    "collapsed": false,
    "ExecuteTime": {
     "start_time": "2023-05-02T18:45:19.567257Z",
     "end_time": "2023-05-02T18:45:19.609977Z"
    }
   }
  },
  {
   "cell_type": "code",
   "execution_count": null,
   "outputs": [],
   "source": [
    "sfp_per"
   ],
   "metadata": {
    "collapsed": false,
    "ExecuteTime": {
     "start_time": "2023-05-02T18:42:49.566473Z",
     "end_time": "2023-05-02T18:42:49.611308Z"
    }
   }
  },
  {
   "cell_type": "code",
   "execution_count": null,
   "outputs": [],
   "source": [
    "exps = {**baseline}\n",
    "exps.update(sfp_exps['percentage'])\n",
    "ax = show_train_scores(\n",
    "    exps=exps,\n",
    "    metric='f1',\n",
    "    show_std=False,\n",
    "    title=f'{ds_name} f1',\n",
    "    xlabel='epoch',\n",
    "    ylabel='f1',\n",
    "    ylim=(0, 1),\n",
    "    # saving_path='f1.png'\n",
    ")"
   ],
   "metadata": {
    "collapsed": false,
    "ExecuteTime": {
     "start_time": "2023-05-02T18:42:54.681858Z",
     "end_time": "2023-05-02T18:42:54.983928Z"
    }
   }
  },
  {
   "cell_type": "code",
   "execution_count": null,
   "outputs": [],
   "source": [
    "exps = {**baseline}\n",
    "exps.update(sfp_exps['energy'])\n",
    "ax = show_train_scores(\n",
    "    exps=exps,\n",
    "    metric='f1',\n",
    "    show_std=True,\n",
    "    title=f'{ds_name} f1',\n",
    "    xlabel='epoch',\n",
    "    ylabel='f1',\n",
    "    ylim=(0, 1),\n",
    "    # saving_path='f1.png'\n",
    ")"
   ],
   "metadata": {
    "collapsed": false,
    "ExecuteTime": {
     "start_time": "2023-05-02T18:42:59.062782Z",
     "end_time": "2023-05-02T18:42:59.332062Z"
    }
   }
  },
  {
   "cell_type": "code",
   "execution_count": null,
   "outputs": [],
   "source": [
    "exps = {**baseline}\n",
    "exps.update(svd_exps['channel'])\n",
    "ax = show_train_scores(\n",
    "    exps=exps,\n",
    "    metric='f1',\n",
    "    show_std=True,\n",
    "    title=f'{ds_name} f1',\n",
    "    xlabel='epoch',\n",
    "    ylabel='f1',\n",
    "    ylim=(0, 1),\n",
    "    # saving_path='f1.png'\n",
    ")"
   ],
   "metadata": {
    "collapsed": false,
    "ExecuteTime": {
     "start_time": "2023-05-02T18:43:01.408461Z",
     "end_time": "2023-05-02T18:43:01.751754Z"
    }
   }
  },
  {
   "cell_type": "code",
   "execution_count": null,
   "outputs": [],
   "source": [
    "exps = {**baseline}\n",
    "exps.update(svd_exps['spatial'])\n",
    "ax = show_train_scores(\n",
    "    exps=exps,\n",
    "    metric='f1',\n",
    "    show_std=True,\n",
    "    title=f'{ds_name} f1',\n",
    "    xlabel='epoch',\n",
    "    ylabel='f1',\n",
    "    ylim=(0, 1),\n",
    "    # saving_path='f1.png'\n",
    ")"
   ],
   "metadata": {
    "collapsed": false,
    "ExecuteTime": {
     "start_time": "2023-05-02T18:43:03.697718Z",
     "end_time": "2023-05-02T18:43:04.104833Z"
    }
   }
  },
  {
   "cell_type": "code",
   "execution_count": null,
   "outputs": [],
   "source": [
    "percent = 97\n",
    "print(f\"SFP per prun: {sfp_per.loc[sfp_per['pruned']>=percent]['size'].min():.1f}\")\n",
    "print(f\"SFP per ft: {sfp_per.loc[sfp_per['fine-tuned']>=percent]['size'].min():.1f}\")\n",
    "print(f\"SFP energy prun: {sfp_energy.loc[sfp_energy['pruned']>=percent]['size'].min():.1f}\")\n",
    "print(f\"SFP energy ft: {sfp_energy.loc[sfp_energy['fine-tuned']>=percent]['size'].min():.1f}\")\n",
    "\n",
    "df = svd_channel['Hoer 0.1 Ort 10']\n",
    "print(f\"SVD channel prun: {df.loc[df['pruned']>=percent]['size'].min():.1f}\")\n",
    "print(f\"SVD channel ft: {df.loc[df['fine-tuned']>=percent]['size'].min():.1f}\")\n",
    "df = svd_spatial['Hoer 0.1 Ort 10']\n",
    "print(f\"SVD spatial prun: {df.loc[df['pruned']>=percent]['size'].min():.1f}\")\n",
    "print(f\"SVD spatial ft: {df.loc[df['fine-tuned']>=percent]['size'].min():.1f}\")"
   ],
   "metadata": {
    "collapsed": false,
    "ExecuteTime": {
     "start_time": "2023-05-02T18:43:34.538939Z",
     "end_time": "2023-05-02T18:43:34.571965Z"
    }
   }
  },
  {
   "cell_type": "code",
   "execution_count": null,
   "outputs": [],
   "source": [
    "ax = show_sfp_results(\n",
    "    sfp_exps=sfp_per,\n",
    "    figsize=(8, 4),\n",
    "    title=f'{ds_name} percentage',\n",
    "    xlabel='size, %',\n",
    "    ylabel='f1, %',\n",
    "    ylim=(0, 110),\n",
    "    xlim=(0, 100)\n",
    ")"
   ],
   "metadata": {
    "collapsed": false,
    "ExecuteTime": {
     "start_time": "2023-05-02T18:43:41.620624Z",
     "end_time": "2023-05-02T18:43:42.165211Z"
    }
   }
  },
  {
   "cell_type": "code",
   "execution_count": null,
   "outputs": [],
   "source": [
    "ax = show_sfp_results(\n",
    "    sfp_exps=sfp_energy,\n",
    "    figsize=(8, 4),\n",
    "    title=f'{ds_name} SFP energy',\n",
    "    xlabel='size, %',\n",
    "    ylabel='f1, %',\n",
    "    ylim=(0, 105),\n",
    "    xlim=(0, 100)\n",
    ")"
   ],
   "metadata": {
    "collapsed": false,
    "ExecuteTime": {
     "start_time": "2023-05-02T18:43:43.557500Z",
     "end_time": "2023-05-02T18:43:43.858746Z"
    }
   }
  },
  {
   "cell_type": "code",
   "execution_count": null,
   "outputs": [],
   "source": [
    "channel_exps = {k: v for k, v in svd_channel.items() if 'Hoer 0.1' in k}"
   ],
   "metadata": {
    "collapsed": false,
    "ExecuteTime": {
     "start_time": "2023-04-12T13:26:34.493991Z",
     "end_time": "2023-04-12T13:26:34.535559Z"
    }
   }
  },
  {
   "cell_type": "code",
   "execution_count": null,
   "outputs": [],
   "source": [
    "channel_exps = {k: v for k, v in svd_channel.items() if k.endswith('Ort 10')}"
   ],
   "metadata": {
    "collapsed": false,
    "ExecuteTime": {
     "start_time": "2023-04-12T13:27:14.811215Z",
     "end_time": "2023-04-12T13:27:14.862293Z"
    }
   }
  },
  {
   "cell_type": "code",
   "execution_count": null,
   "outputs": [],
   "source": [
    "channel_exps = {k: v[['pruned', 'fine-tuned']] for k, v in svd_channel.items() if 'Hoer 0.1' in k }"
   ],
   "metadata": {
    "collapsed": false,
    "ExecuteTime": {
     "start_time": "2023-05-02T18:43:46.606983Z",
     "end_time": "2023-05-02T18:43:46.639051Z"
    }
   }
  },
  {
   "cell_type": "code",
   "execution_count": null,
   "outputs": [],
   "source": [
    "ax = show_svd_results(\n",
    "    svd_exps=channel_exps,\n",
    "    figsize=(8, 4),\n",
    "    title=f'{ds_name} SVD channel',\n",
    "    xlabel='size, %',\n",
    "    ylabel='f1, %',\n",
    "    ylim=(0, 110),\n",
    "    # xlim=(0, 100)\n",
    ")"
   ],
   "metadata": {
    "collapsed": false,
    "ExecuteTime": {
     "start_time": "2023-05-02T18:43:48.092835Z",
     "end_time": "2023-05-02T18:43:48.244282Z"
    }
   }
  },
  {
   "cell_type": "code",
   "execution_count": null,
   "outputs": [],
   "source": [
    "spatial_exps = {k: v for k, v in svd_spatial.items() if 'Hoer 0.1' in k}"
   ],
   "metadata": {
    "collapsed": false,
    "ExecuteTime": {
     "start_time": "2023-04-17T13:35:50.210825Z",
     "end_time": "2023-04-17T13:35:50.267977Z"
    }
   }
  },
  {
   "cell_type": "code",
   "execution_count": null,
   "outputs": [],
   "source": [
    "spatial_exps = {k: v for k, v in svd_spatial.items() if k.endswith('Ort 10')}"
   ],
   "metadata": {
    "collapsed": false,
    "ExecuteTime": {
     "start_time": "2023-04-12T13:29:03.493360Z",
     "end_time": "2023-04-12T13:29:03.539697Z"
    }
   }
  },
  {
   "cell_type": "code",
   "execution_count": null,
   "outputs": [],
   "source": [
    "spatial_exps = {k: v[['pruned', 'fine-tuned']] for k, v in svd_spatial.items() if 'Hoer 0.1' in k }"
   ],
   "metadata": {
    "collapsed": false,
    "ExecuteTime": {
     "start_time": "2023-05-02T18:43:50.972152Z",
     "end_time": "2023-05-02T18:43:51.017720Z"
    }
   }
  },
  {
   "cell_type": "code",
   "execution_count": null,
   "outputs": [],
   "source": [
    "ax = show_svd_results(\n",
    "    svd_exps=spatial_exps,\n",
    "    figsize=(8, 4),\n",
    "    title=f'{ds_name} SVD spatial',\n",
    "    xlabel='size, %',\n",
    "    ylabel='f1, %',\n",
    "    ylim=(0, 110),\n",
    "    # xlim=(0, 100)\n",
    ")"
   ],
   "metadata": {
    "collapsed": false,
    "ExecuteTime": {
     "start_time": "2023-05-02T18:43:52.262207Z",
     "end_time": "2023-05-02T18:43:52.423052Z"
    }
   }
  },
  {
   "cell_type": "code",
   "execution_count": null,
   "outputs": [],
   "source": [
    "ax = show_svd_sfp_results(\n",
    "    sfp_exps=pd.concat([sfp_energy, sfp_per])[['size', 'size std', 'fine-tuned', 'fine-tuned std']],\n",
    "    svd_exps={\n",
    "        'SVD channel': svd_channel['Hoer 0.1 Ort 10'][['fine-tuned', 'fine-tuned std']],\n",
    "        'SVD spatial': svd_spatial['Hoer 0.1 Ort 10'][['fine-tuned', 'fine-tuned std']],\n",
    "    },\n",
    "    figsize=(8, 4),\n",
    "    title=f'{ds_name}', # best fine-tuned',\n",
    "    xlabel='размер, %',\n",
    "    ylabel='f1, %',\n",
    "    ylim=(50, 110),\n",
    "    xlim=(0, 100)\n",
    ")"
   ],
   "metadata": {
    "collapsed": false,
    "ExecuteTime": {
     "start_time": "2023-05-02T12:46:31.018732Z",
     "end_time": "2023-05-02T12:46:31.567606Z"
    }
   }
  }
 ],
 "metadata": {
  "kernelspec": {
   "display_name": "Python 3",
   "language": "python",
   "name": "python3"
  },
  "language_info": {
   "codemirror_mode": {
    "name": "ipython",
    "version": 2
   },
   "file_extension": ".py",
   "mimetype": "text/x-python",
   "name": "python",
   "nbconvert_exporter": "python",
   "pygments_lexer": "ipython2",
   "version": "2.7.6"
  }
 },
 "nbformat": 4,
 "nbformat_minor": 0
}
