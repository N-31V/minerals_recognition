{
 "cells": [
  {
   "cell_type": "code",
   "execution_count": null,
   "outputs": [],
   "source": [
    "import sys\n",
    "import os\n",
    "import pandas as pd\n",
    "sys.path.append('../../../Fedot.Industrial')\n",
    "from fedot_ind.core.architecture.postprocessing.cv_results_parser import *"
   ],
   "metadata": {
    "collapsed": false
   }
  },
  {
   "cell_type": "code",
   "execution_count": null,
   "outputs": [],
   "source": [
    "exp_root = '/media/n31v/data/results/minerals200_10_02'\n",
    "exps = os.listdir(exp_root)"
   ],
   "metadata": {
    "collapsed": false
   }
  },
  {
   "cell_type": "code",
   "execution_count": null,
   "outputs": [],
   "source": [
    "for exp in filter(lambda x: True, exps):\n",
    "    path = os.path.join(exp_root, exp)\n",
    "    try:\n",
    "        create_mean_exp(path)\n",
    "        print(path)\n",
    "    except Exception as e:\n",
    "        print(e)\n",
    "print('Done')"
   ],
   "metadata": {
    "collapsed": false
   }
  },
  {
   "cell_type": "code",
   "execution_count": null,
   "outputs": [],
   "source": [
    "import shutil\n",
    "for exp in filter(lambda x: True, exps):\n",
    "    path = os.path.join(exp_root, exp, 'mean')\n",
    "    try:\n",
    "        shutil.rmtree(path)\n",
    "        print(f'{path} removed.')\n",
    "    except Exception as e:\n",
    "        print(e)"
   ],
   "metadata": {
    "collapsed": false
   }
  },
  {
   "cell_type": "code",
   "execution_count": null,
   "outputs": [],
   "source": [
    "from typing import Dict\n",
    "\n",
    "def exp_list(config: Dict, folds = [0, 1],  n = [0, 1, 2, 3, 4]):\n",
    "    pruning_ratio = [p['pruning_ratio'] for p in config['sfp_params']['zeroing']['percentage']]\n",
    "    energy_threshold = [e['energy_threshold'] for e in config['sfp_params']['zeroing']['energy']]\n",
    "    hoer_loss_factor = config['svd_params']['hoer_loss_factor']\n",
    "    orthogonal_loss_factor = config['svd_params']['orthogonal_loss_factor']\n",
    "    root = f\"/media/n31v/data/results/{config['ds_name']}/{config['model_name']}\"\n",
    "    exps = {'Baseline': f\"{root}/mean\"}\n",
    "    sfp_exps = {\n",
    "        'energy': {f'SFP energy {e}': f'{root}_SFP_energy_threshold-{e}/mean' for e in energy_threshold},\n",
    "        'percentage': {f'SFP {pr * 100}%': f'{root}_SFP_pruning_ratio-{pr}/mean' for pr in pruning_ratio},\n",
    "    }\n",
    "\n",
    "    svd_exps = {\n",
    "        'channel': {f'Hoer {hoer} Ort {ort}': f'{root}_SVD_channel_O-{ort}_H-{hoer}/mean' for hoer in hoer_loss_factor for ort in orthogonal_loss_factor},\n",
    "        'spatial': {f'Hoer {hoer} Ort {ort}': f'{root}_SVD_spatial_O-{ort}_H-{hoer}/mean' for hoer in hoer_loss_factor for ort in orthogonal_loss_factor},\n",
    "    }\n",
    "    return exps, sfp_exps, svd_exps"
   ],
   "metadata": {
    "collapsed": false
   }
  },
  {
   "cell_type": "code",
   "execution_count": null,
   "outputs": [],
   "source": [
    "from exp_parameters import TASKS\n",
    "ds_name = 'minerals200'\n",
    "baseline, sfp_exps, svd_exps = exp_list(TASKS[ds_name])\n",
    "svd_channel = compare_svd_results(\n",
    "    baseline=baseline['Baseline'],\n",
    "    svd_exps=svd_exps['channel'],\n",
    "    metric='f1'\n",
    ")\n",
    "svd_spatial = compare_svd_results(\n",
    "    baseline=baseline['Baseline'],\n",
    "    svd_exps=svd_exps['spatial'],\n",
    "    metric='f1'\n",
    ")\n",
    "sfp_energy = compare_sfp_results(\n",
    "    baseline=baseline['Baseline'],\n",
    "    sfp_exps=sfp_exps['energy'],\n",
    "    metric='f1'\n",
    ")\n",
    "sfp_per = compare_sfp_results(\n",
    "    baseline=baseline['Baseline'],\n",
    "    sfp_exps=sfp_exps['percentage'],\n",
    "    metric='f1'\n",
    ")\n",
    "get_best_metric(\n",
    "    exp_path=baseline['Baseline'],\n",
    "    metric='f1'\n",
    ")"
   ],
   "metadata": {
    "collapsed": false
   }
  },
  {
   "cell_type": "code",
   "execution_count": null,
   "outputs": [],
   "source": [
    "svd_channel['Hoer 0.1 Ort 10']"
   ],
   "metadata": {
    "collapsed": false
   }
  },
  {
   "cell_type": "code",
   "execution_count": null,
   "outputs": [],
   "source": [
    "sfp_per"
   ],
   "metadata": {
    "collapsed": false
   }
  },
  {
   "cell_type": "code",
   "execution_count": null,
   "outputs": [],
   "source": [
    "exps = {**baseline}\n",
    "exps.update(sfp_exps['percentage'])\n",
    "ax = show_train_scores(\n",
    "    exps=exps,\n",
    "    metric='f1',\n",
    "    show_std=False,\n",
    "    title=f'{ds_name} f1',\n",
    "    xlabel='epoch',\n",
    "    ylabel='f1',\n",
    "    ylim=(0, 1),\n",
    "    # saving_path='f1.png'\n",
    ")"
   ],
   "metadata": {
    "collapsed": false
   }
  },
  {
   "cell_type": "code",
   "execution_count": null,
   "outputs": [],
   "source": [
    "exps = {**baseline}\n",
    "exps.update(sfp_exps['energy'])\n",
    "ax = show_train_scores(\n",
    "    exps=exps,\n",
    "    metric='f1',\n",
    "    show_std=True,\n",
    "    title=f'{ds_name} f1',\n",
    "    xlabel='epoch',\n",
    "    ylabel='f1',\n",
    "    ylim=(0, 1),\n",
    "    # saving_path='f1.png'\n",
    ")"
   ],
   "metadata": {
    "collapsed": false
   }
  },
  {
   "cell_type": "code",
   "execution_count": null,
   "outputs": [],
   "source": [
    "exps = {**baseline}\n",
    "exps.update(svd_exps['channel'])\n",
    "ax = show_train_scores(\n",
    "    exps=exps,\n",
    "    metric='f1',\n",
    "    show_std=True,\n",
    "    title=f'{ds_name} f1',\n",
    "    xlabel='epoch',\n",
    "    ylabel='f1',\n",
    "    ylim=(0, 1),\n",
    "    # saving_path='f1.png'\n",
    ")"
   ],
   "metadata": {
    "collapsed": false
   }
  },
  {
   "cell_type": "code",
   "execution_count": null,
   "outputs": [],
   "source": [
    "exps = {**baseline}\n",
    "exps.update(svd_exps['spatial'])\n",
    "ax = show_train_scores(\n",
    "    exps=exps,\n",
    "    metric='f1',\n",
    "    show_std=True,\n",
    "    title=f'{ds_name} f1',\n",
    "    xlabel='epoch',\n",
    "    ylabel='f1',\n",
    "    ylim=(0, 1),\n",
    "    # saving_path='f1.png'\n",
    ")"
   ],
   "metadata": {
    "collapsed": false
   }
  },
  {
   "cell_type": "code",
   "execution_count": null,
   "outputs": [],
   "source": [
    "percent = 97\n",
    "print(f\"SFP per prun: {sfp_per.loc[sfp_per['pruned']>=percent]['size'].min():.1f}\")\n",
    "print(f\"SFP per ft: {sfp_per.loc[sfp_per['fine-tuned']>=percent]['size'].min():.1f}\")\n",
    "print(f\"SFP energy prun: {sfp_energy.loc[sfp_energy['pruned']>=percent]['size'].min():.1f}\")\n",
    "print(f\"SFP energy ft: {sfp_energy.loc[sfp_energy['fine-tuned']>=percent]['size'].min():.1f}\")\n",
    "\n",
    "df = svd_channel['Hoer 0.1 Ort 10']\n",
    "print(f\"SVD channel prun: {df.loc[df['pruned']>=percent]['size'].min():.1f}\")\n",
    "print(f\"SVD channel ft: {df.loc[df['fine-tuned']>=percent]['size'].min():.1f}\")\n",
    "df = svd_spatial['Hoer 0.1 Ort 10']\n",
    "print(f\"SVD spatial prun: {df.loc[df['pruned']>=percent]['size'].min():.1f}\")\n",
    "print(f\"SVD spatial ft: {df.loc[df['fine-tuned']>=percent]['size'].min():.1f}\")"
   ],
   "metadata": {
    "collapsed": false
   }
  },
  {
   "cell_type": "code",
   "execution_count": null,
   "outputs": [],
   "source": [
    "ax = show_sfp_results(\n",
    "    sfp_exps=sfp_per,\n",
    "    figsize=(8, 4),\n",
    "    title=f'{ds_name} percentage',\n",
    "    xlabel='size, %',\n",
    "    ylabel='f1, %',\n",
    "    ylim=(0, 110),\n",
    "    xlim=(0, 100)\n",
    ")"
   ],
   "metadata": {
    "collapsed": false
   }
  },
  {
   "cell_type": "code",
   "execution_count": null,
   "outputs": [],
   "source": [
    "ax = show_sfp_results(\n",
    "    sfp_exps=sfp_energy,\n",
    "    figsize=(8, 4),\n",
    "    title=f'{ds_name} SFP energy',\n",
    "    xlabel='size, %',\n",
    "    ylabel='f1, %',\n",
    "    ylim=(0, 105),\n",
    "    xlim=(0, 100)\n",
    ")"
   ],
   "metadata": {
    "collapsed": false
   }
  },
  {
   "cell_type": "code",
   "execution_count": null,
   "outputs": [],
   "source": [
    "channel_exps = {k: v for k, v in svd_channel.items() if 'Hoer 0.1' in k}"
   ],
   "metadata": {
    "collapsed": false
   }
  },
  {
   "cell_type": "code",
   "execution_count": null,
   "outputs": [],
   "source": [
    "channel_exps = {k: v for k, v in svd_channel.items() if k.endswith('Ort 10')}"
   ],
   "metadata": {
    "collapsed": false
   }
  },
  {
   "cell_type": "code",
   "execution_count": null,
   "outputs": [],
   "source": [
    "channel_exps = {k: v[['pruned', 'fine-tuned']] for k, v in svd_channel.items() if 'Hoer 0.1' in k }"
   ],
   "metadata": {
    "collapsed": false
   }
  },
  {
   "cell_type": "code",
   "execution_count": null,
   "outputs": [],
   "source": [
    "ax = show_svd_results(\n",
    "    svd_exps=channel_exps,\n",
    "    figsize=(8, 4),\n",
    "    title=f'{ds_name} SVD channel',\n",
    "    xlabel='size, %',\n",
    "    ylabel='f1, %',\n",
    "    ylim=(0, 110),\n",
    "    # xlim=(0, 100)\n",
    ")"
   ],
   "metadata": {
    "collapsed": false
   }
  },
  {
   "cell_type": "code",
   "execution_count": null,
   "outputs": [],
   "source": [
    "spatial_exps = {k: v for k, v in svd_spatial.items() if 'Hoer 0.1' in k}"
   ],
   "metadata": {
    "collapsed": false
   }
  },
  {
   "cell_type": "code",
   "execution_count": null,
   "outputs": [],
   "source": [
    "spatial_exps = {k: v for k, v in svd_spatial.items() if k.endswith('Ort 10')}"
   ],
   "metadata": {
    "collapsed": false
   }
  },
  {
   "cell_type": "code",
   "execution_count": null,
   "outputs": [],
   "source": [
    "spatial_exps = {k: v[['pruned', 'fine-tuned']] for k, v in svd_spatial.items() if 'Hoer 0.1' in k }"
   ],
   "metadata": {
    "collapsed": false
   }
  },
  {
   "cell_type": "code",
   "execution_count": null,
   "outputs": [],
   "source": [
    "ax = show_svd_results(\n",
    "    svd_exps=spatial_exps,\n",
    "    figsize=(8, 4),\n",
    "    title=f'{ds_name} SVD spatial',\n",
    "    xlabel='size, %',\n",
    "    ylabel='f1, %',\n",
    "    ylim=(0, 110),\n",
    "    # xlim=(0, 100)\n",
    ")"
   ],
   "metadata": {
    "collapsed": false
   }
  },
  {
   "cell_type": "code",
   "execution_count": null,
   "outputs": [],
   "source": [
    "ax = show_svd_sfp_results(\n",
    "    sfp_exps=pd.concat([sfp_energy, sfp_per])[['size', 'size std', 'fine-tuned', 'fine-tuned std']],\n",
    "    svd_exps={\n",
    "        'SVD channel': svd_channel['Hoer 0.1 Ort 10'][['fine-tuned', 'fine-tuned std']],\n",
    "        'SVD spatial': svd_spatial['Hoer 0.1 Ort 10'][['fine-tuned', 'fine-tuned std']],\n",
    "    },\n",
    "    figsize=(8, 4),\n",
    "    title=f'{ds_name}', # best fine-tuned',\n",
    "    xlabel='размер, %',\n",
    "    ylabel='f1, %',\n",
    "    ylim=(50, 110),\n",
    "    xlim=(0, 100)\n",
    ")"
   ],
   "metadata": {
    "collapsed": false
   }
  }
 ],
 "metadata": {
  "kernelspec": {
   "display_name": "Python 3",
   "language": "python",
   "name": "python3"
  },
  "language_info": {
   "codemirror_mode": {
    "name": "ipython",
    "version": 2
   },
   "file_extension": ".py",
   "mimetype": "text/x-python",
   "name": "python",
   "nbconvert_exporter": "python",
   "pygments_lexer": "ipython2",
   "version": "2.7.6"
  }
 },
 "nbformat": 4,
 "nbformat_minor": 0
}
