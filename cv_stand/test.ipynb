{
 "cells": [
  {
   "cell_type": "code",
   "execution_count": 20,
   "outputs": [],
   "source": [
    "import os\n",
    "import numpy as np\n",
    "from torchvision.transforms import Compose, ToTensor, Resize\n",
    "from torchvision.datasets import ImageFolder\n",
    "from torch.utils.data import DataLoader, Subset\n",
    "\n",
    "dataset_path = '/media/n31v/data/datasets/minerals'\n",
    "\n",
    "transform = Compose([Resize((1920, 1080)), ToTensor()])\n",
    "dataset = ImageFolder(root=dataset_path, transform=transform)\n",
    "dataset = Subset(dataset, indices=np.load(os.path.join(dataset_path, 'balanced.npy')))\n",
    "val_ds = Subset(dataset, indices=np.load(os.path.join(dataset_path, 'val.npy')))\n",
    "dl = DataLoader(val_ds)"
   ],
   "metadata": {
    "collapsed": false
   }
  },
  {
   "cell_type": "code",
   "execution_count": 1,
   "outputs": [
    {
     "name": "stdout",
     "output_type": "stream",
     "text": [
      "94.302404\n"
     ]
    },
    {
     "name": "stderr",
     "output_type": "stream",
     "text": [
      "STAGE:2023-03-07 14:39:20 1387071:1387071 ActivityProfilerController.cpp:294] Completed Stage: Warm Up\n"
     ]
    },
    {
     "name": "stdout",
     "output_type": "stream",
     "text": [
      "aten::conv2d: 339143393280 flops, 53 calls\n",
      "aten::addmm: 28672 flops, 1 calls\n"
     ]
    },
    {
     "name": "stderr",
     "output_type": "stream",
     "text": [
      "STAGE:2023-03-07 14:39:21 1387071:1387071 ActivityProfilerController.cpp:300] Completed Stage: Collection\n",
      "STAGE:2023-03-07 14:39:21 1387071:1387071 output_json.cpp:417] Completed Stage: Post Processing\n"
     ]
    },
    {
     "data": {
      "text/plain": "339143421952"
     },
     "execution_count": 1,
     "metadata": {},
     "output_type": "execute_result"
    }
   ],
   "source": [
    "from torchvision.models import resnet50\n",
    "from core.architecture.experiment.nn_experimenter import ClassificationExperimenter\n",
    "from utils import profile, flop\n",
    "\n",
    "experimenter = ClassificationExperimenter(\n",
    "    model=resnet50(num_classes=7),\n",
    "    name='ResNet50_lrs'\n",
    ")\n",
    "print(experimenter.size_of_model())\n",
    "flop(profile(experimenter.model, 'base'))"
   ],
   "metadata": {
    "collapsed": false
   }
  },
  {
   "cell_type": "code",
   "execution_count": 2,
   "outputs": [
    {
     "name": "stdout",
     "output_type": "stream",
     "text": [
      "2023-03-07 14:40:19,513 - SVDOptimization - Model state dict loaded.\n",
      "93.050416\n",
      "aten::mm: 35033306752 flops, 106 calls\n",
      "aten::conv2d: 339143393280 flops, 53 calls\n",
      "aten::addmm: 28672 flops, 1 calls\n"
     ]
    },
    {
     "name": "stderr",
     "output_type": "stream",
     "text": [
      "STAGE:2023-03-07 14:40:19 1387071:1387071 ActivityProfilerController.cpp:294] Completed Stage: Warm Up\n",
      "STAGE:2023-03-07 14:40:19 1387071:1387071 ActivityProfilerController.cpp:300] Completed Stage: Collection\n",
      "STAGE:2023-03-07 14:40:19 1387071:1387071 output_json.cpp:417] Completed Stage: Post Processing\n"
     ]
    },
    {
     "data": {
      "text/plain": "374176728704"
     },
     "execution_count": 2,
     "metadata": {},
     "output_type": "execute_result"
    }
   ],
   "source": [
    "from core.operation.optimization.structure_optimization import SVDOptimization\n",
    "\n",
    "svd_optim = SVDOptimization(\n",
    "    energy_thresholds=[0.1, 0.3, 0.5, 0.7, 0.9, 0.93, 0.96, 0.99, 0.999],\n",
    "    decomposing_mode='spatial',\n",
    "    hoer_loss_factor=0.01\n",
    ")\n",
    "svd_optim.load_model(experimenter, state_dict_path='models/minerals(1920х1080)/ResNet50_lrs_SVD_spatial_O-100.0_H-0.001000/e_0.9.sd.pt')\n",
    "print(experimenter.size_of_model())\n",
    "flop(profile(experimenter.model, 'svd'))\n",
    "# experimenter.val_loop(dataloader=dl)"
   ],
   "metadata": {
    "collapsed": false
   }
  },
  {
   "cell_type": "markdown",
   "source": [
    "aten::mm: 35033306752\n",
    "aten::conv2d: 339143393280\n",
    "aten::addmm: 28672\n",
    "total: 374176728704"
   ],
   "metadata": {
    "collapsed": false
   }
  },
  {
   "cell_type": "code",
   "execution_count": 3,
   "outputs": [
    {
     "name": "stdout",
     "output_type": "stream",
     "text": [
      "94.302404\n"
     ]
    },
    {
     "name": "stderr",
     "output_type": "stream",
     "text": [
      "STAGE:2023-03-07 14:40:19 1387071:1387071 ActivityProfilerController.cpp:294] Completed Stage: Warm Up\n",
      "STAGE:2023-03-07 14:40:19 1387071:1387071 ActivityProfilerController.cpp:300] Completed Stage: Collection\n"
     ]
    },
    {
     "name": "stdout",
     "output_type": "stream",
     "text": [
      "aten::conv2d: 339143393280 flops, 53 calls\n",
      "aten::addmm: 28672 flops, 1 calls\n"
     ]
    },
    {
     "name": "stderr",
     "output_type": "stream",
     "text": [
      "STAGE:2023-03-07 14:40:19 1387071:1387071 output_json.cpp:417] Completed Stage: Post Processing\n"
     ]
    },
    {
     "data": {
      "text/plain": "339143421952"
     },
     "execution_count": 3,
     "metadata": {},
     "output_type": "execute_result"
    }
   ],
   "source": [
    "from core.operation.decomposition.decomposed_conv import DecomposedConv2d\n",
    "\n",
    "def compose_layer(conv: DecomposedConv2d):\n",
    "    conv.compose()\n",
    "\n",
    "experimenter.apply_func(func=compose_layer, condition=lambda x: isinstance(x, DecomposedConv2d))\n",
    "print(experimenter.size_of_model())\n",
    "flop(profile(experimenter.model, 'svd compose'))\n",
    "# experimenter.val_loop(dataloader=dl)"
   ],
   "metadata": {
    "collapsed": false
   }
  },
  {
   "cell_type": "markdown",
   "source": [
    "{'accuracy': 0.707641196013289,\n",
    " 'precision': 0.7376112940207636,\n",
    " 'recall': 0.707641196013289,\n",
    " 'f1': 0.7062899526066728,\n",
    " 'roc_auc': 0.9052898606711478}\n",
    "\n",
    "aten::conv2d: 339143393280\n",
    "aten::addmm: 28672\n",
    "total: 339143421952"
   ],
   "metadata": {
    "collapsed": false
   }
  },
  {
   "cell_type": "code",
   "execution_count": 4,
   "outputs": [
    {
     "name": "stdout",
     "output_type": "stream",
     "text": [
      "88.150908\n",
      "aten::conv2d: 315082416480 flops, 53 calls\n",
      "aten::addmm: 28672 flops, 1 calls\n"
     ]
    },
    {
     "name": "stderr",
     "output_type": "stream",
     "text": [
      "STAGE:2023-03-07 14:40:41 1387071:1387071 ActivityProfilerController.cpp:294] Completed Stage: Warm Up\n",
      "STAGE:2023-03-07 14:40:41 1387071:1387071 ActivityProfilerController.cpp:300] Completed Stage: Collection\n",
      "STAGE:2023-03-07 14:40:41 1387071:1387071 output_json.cpp:417] Completed Stage: Post Processing\n"
     ]
    },
    {
     "data": {
      "text/plain": "315082445152"
     },
     "execution_count": 4,
     "metadata": {},
     "output_type": "execute_result"
    }
   ],
   "source": [
    "import copy\n",
    "from core.operation.optimization.sfp_tools import create_energy_filter_zeroing_fn, create_percentage_filter_zeroing_fn, prune_resnet\n",
    "filter_zeroing = create_energy_filter_zeroing_fn(0.96)\n",
    "# filter_zeroing = create_percentage_filter_zeroing_fn(0.1)\n",
    "\n",
    "experimenter.apply_func(func=filter_zeroing, condition=lambda x: isinstance(x, DecomposedConv2d))\n",
    "experimenter.model = prune_resnet(model=experimenter.model)\n",
    "experimenter.model.to(experimenter.device)\n",
    "print(experimenter.size_of_model())\n",
    "flop(profile(experimenter.model, 'svd pruned'))"
   ],
   "metadata": {
    "collapsed": false
   }
  },
  {
   "cell_type": "code",
   "execution_count": 21,
   "outputs": [
    {
     "name": "stderr",
     "output_type": "stream",
     "text": [
      "100%|██████████| 301/301 [00:57<00:00,  5.23it/s]\n"
     ]
    },
    {
     "data": {
      "text/plain": "{'accuracy': 0.8006644518272426,\n 'precision': 0.8176867752339451,\n 'recall': 0.8006644518272426,\n 'f1': 0.8014518581409948,\n 'roc_auc': 0.9188235597105258}"
     },
     "execution_count": 21,
     "metadata": {},
     "output_type": "execute_result"
    }
   ],
   "source": [
    "experimenter.val_loop(dataloader=dl)"
   ],
   "metadata": {
    "collapsed": false
   }
  },
  {
   "cell_type": "code",
   "execution_count": 8,
   "outputs": [
    {
     "name": "stdout",
     "output_type": "stream",
     "text": [
      "94.302404\n"
     ]
    },
    {
     "name": "stderr",
     "output_type": "stream",
     "text": [
      "STAGE:2023-03-07 14:43:53 1387071:1387071 ActivityProfilerController.cpp:294] Completed Stage: Warm Up\n",
      "STAGE:2023-03-07 14:43:53 1387071:1387071 ActivityProfilerController.cpp:300] Completed Stage: Collection\n"
     ]
    },
    {
     "name": "stdout",
     "output_type": "stream",
     "text": [
      "aten::conv2d: 339143393280 flops, 53 calls\n",
      "aten::addmm: 28672 flops, 1 calls\n"
     ]
    },
    {
     "name": "stderr",
     "output_type": "stream",
     "text": [
      "STAGE:2023-03-07 14:43:54 1387071:1387071 output_json.cpp:417] Completed Stage: Post Processing\n"
     ]
    },
    {
     "data": {
      "text/plain": "339143421952"
     },
     "execution_count": 8,
     "metadata": {},
     "output_type": "execute_result"
    }
   ],
   "source": [
    "from torchvision.models import resnet50\n",
    "\n",
    "from core.architecture.experiment.nn_experimenter import ClassificationExperimenter\n",
    "\n",
    "experimenter = ClassificationExperimenter(\n",
    "    model=resnet50(num_classes=7),\n",
    "    name='ResNet50_lrs',\n",
    "    weights='models/minerals(1920х1080)/ResNet50_lrs_SFP_energy_threshold-0.994/train.sd.pt'\n",
    ")\n",
    "print(experimenter.size_of_model())\n",
    "flop(profile(experimenter.model, 'sfp'))"
   ],
   "metadata": {
    "collapsed": false
   }
  },
  {
   "cell_type": "code",
   "execution_count": 9,
   "outputs": [
    {
     "name": "stdout",
     "output_type": "stream",
     "text": [
      "42.832716\n",
      "aten::conv2d: 160247079120 flops, 53 calls\n",
      "aten::addmm: 28672 flops, 1 calls\n",
      "160247107792\n"
     ]
    },
    {
     "name": "stderr",
     "output_type": "stream",
     "text": [
      "STAGE:2023-03-07 14:43:55 1387071:1387071 ActivityProfilerController.cpp:294] Completed Stage: Warm Up\n",
      "STAGE:2023-03-07 14:43:55 1387071:1387071 ActivityProfilerController.cpp:300] Completed Stage: Collection\n",
      "STAGE:2023-03-07 14:43:55 1387071:1387071 output_json.cpp:417] Completed Stage: Post Processing\n"
     ]
    },
    {
     "name": "stdout",
     "output_type": "stream",
     "text": [
      "Exported graph: graph(%input.1 : Float(1, 3, 1920, 1080, strides=[6220800, 2073600, 1080, 1], requires_grad=1, device=cuda:0),\n",
      "      %fc.weight : Float(7, 2048, strides=[2048, 1], requires_grad=1, device=cuda:0),\n",
      "      %fc.bias : Float(7, strides=[1], requires_grad=1, device=cuda:0),\n",
      "      %onnx::Conv_497 : Float(64, 3, 7, 7, strides=[147, 49, 7, 1], requires_grad=0, device=cuda:0),\n",
      "      %onnx::Conv_498 : Float(64, strides=[1], requires_grad=0, device=cuda:0),\n",
      "      %onnx::Conv_500 : Float(17, 64, 1, 1, strides=[64, 1, 1, 1], requires_grad=0, device=cuda:0),\n",
      "      %onnx::Conv_501 : Float(17, strides=[1], requires_grad=0, device=cuda:0),\n",
      "      %onnx::Conv_503 : Float(29, 17, 3, 3, strides=[153, 9, 3, 1], requires_grad=0, device=cuda:0),\n",
      "      %onnx::Conv_504 : Float(29, strides=[1], requires_grad=0, device=cuda:0),\n",
      "      %onnx::Conv_506 : Float(256, 29, 1, 1, strides=[29, 1, 1, 1], requires_grad=0, device=cuda:0),\n",
      "      %onnx::Conv_507 : Float(256, strides=[1], requires_grad=0, device=cuda:0),\n",
      "      %onnx::Conv_509 : Float(256, 64, 1, 1, strides=[64, 1, 1, 1], requires_grad=0, device=cuda:0),\n",
      "      %onnx::Conv_510 : Float(256, strides=[1], requires_grad=0, device=cuda:0),\n",
      "      %onnx::Conv_512 : Float(30, 256, 1, 1, strides=[256, 1, 1, 1], requires_grad=0, device=cuda:0),\n",
      "      %onnx::Conv_513 : Float(30, strides=[1], requires_grad=0, device=cuda:0),\n",
      "      %onnx::Conv_515 : Float(33, 30, 3, 3, strides=[270, 9, 3, 1], requires_grad=0, device=cuda:0),\n",
      "      %onnx::Conv_516 : Float(33, strides=[1], requires_grad=0, device=cuda:0),\n",
      "      %onnx::Conv_518 : Float(256, 33, 1, 1, strides=[33, 1, 1, 1], requires_grad=0, device=cuda:0),\n",
      "      %onnx::Conv_519 : Float(256, strides=[1], requires_grad=0, device=cuda:0),\n",
      "      %onnx::Conv_521 : Float(32, 256, 1, 1, strides=[256, 1, 1, 1], requires_grad=0, device=cuda:0),\n",
      "      %onnx::Conv_522 : Float(32, strides=[1], requires_grad=0, device=cuda:0),\n",
      "      %onnx::Conv_524 : Float(31, 32, 3, 3, strides=[288, 9, 3, 1], requires_grad=0, device=cuda:0),\n",
      "      %onnx::Conv_525 : Float(31, strides=[1], requires_grad=0, device=cuda:0),\n",
      "      %onnx::Conv_527 : Float(256, 31, 1, 1, strides=[31, 1, 1, 1], requires_grad=0, device=cuda:0),\n",
      "      %onnx::Conv_528 : Float(256, strides=[1], requires_grad=0, device=cuda:0),\n",
      "      %onnx::Conv_530 : Float(73, 256, 1, 1, strides=[256, 1, 1, 1], requires_grad=0, device=cuda:0),\n",
      "      %onnx::Conv_531 : Float(73, strides=[1], requires_grad=0, device=cuda:0),\n",
      "      %onnx::Conv_533 : Float(81, 73, 3, 3, strides=[657, 9, 3, 1], requires_grad=0, device=cuda:0),\n",
      "      %onnx::Conv_534 : Float(81, strides=[1], requires_grad=0, device=cuda:0),\n",
      "      %onnx::Conv_536 : Float(512, 81, 1, 1, strides=[81, 1, 1, 1], requires_grad=0, device=cuda:0),\n",
      "      %onnx::Conv_537 : Float(512, strides=[1], requires_grad=0, device=cuda:0),\n",
      "      %onnx::Conv_539 : Float(512, 256, 1, 1, strides=[256, 1, 1, 1], requires_grad=0, device=cuda:0),\n",
      "      %onnx::Conv_540 : Float(512, strides=[1], requires_grad=0, device=cuda:0),\n",
      "      %onnx::Conv_542 : Float(85, 512, 1, 1, strides=[512, 1, 1, 1], requires_grad=0, device=cuda:0),\n",
      "      %onnx::Conv_543 : Float(85, strides=[1], requires_grad=0, device=cuda:0),\n",
      "      %onnx::Conv_545 : Float(83, 85, 3, 3, strides=[765, 9, 3, 1], requires_grad=0, device=cuda:0),\n",
      "      %onnx::Conv_546 : Float(83, strides=[1], requires_grad=0, device=cuda:0),\n",
      "      %onnx::Conv_548 : Float(512, 83, 1, 1, strides=[83, 1, 1, 1], requires_grad=0, device=cuda:0),\n",
      "      %onnx::Conv_549 : Float(512, strides=[1], requires_grad=0, device=cuda:0),\n",
      "      %onnx::Conv_551 : Float(76, 512, 1, 1, strides=[512, 1, 1, 1], requires_grad=0, device=cuda:0),\n",
      "      %onnx::Conv_552 : Float(76, strides=[1], requires_grad=0, device=cuda:0),\n",
      "      %onnx::Conv_554 : Float(68, 76, 3, 3, strides=[684, 9, 3, 1], requires_grad=0, device=cuda:0),\n",
      "      %onnx::Conv_555 : Float(68, strides=[1], requires_grad=0, device=cuda:0),\n",
      "      %onnx::Conv_557 : Float(512, 68, 1, 1, strides=[68, 1, 1, 1], requires_grad=0, device=cuda:0),\n",
      "      %onnx::Conv_558 : Float(512, strides=[1], requires_grad=0, device=cuda:0),\n",
      "      %onnx::Conv_560 : Float(75, 512, 1, 1, strides=[512, 1, 1, 1], requires_grad=0, device=cuda:0),\n",
      "      %onnx::Conv_561 : Float(75, strides=[1], requires_grad=0, device=cuda:0),\n",
      "      %onnx::Conv_563 : Float(70, 75, 3, 3, strides=[675, 9, 3, 1], requires_grad=0, device=cuda:0),\n",
      "      %onnx::Conv_564 : Float(70, strides=[1], requires_grad=0, device=cuda:0),\n",
      "      %onnx::Conv_566 : Float(512, 70, 1, 1, strides=[70, 1, 1, 1], requires_grad=0, device=cuda:0),\n",
      "      %onnx::Conv_567 : Float(512, strides=[1], requires_grad=0, device=cuda:0),\n",
      "      %onnx::Conv_569 : Float(139, 512, 1, 1, strides=[512, 1, 1, 1], requires_grad=0, device=cuda:0),\n",
      "      %onnx::Conv_570 : Float(139, strides=[1], requires_grad=0, device=cuda:0),\n",
      "      %onnx::Conv_572 : Float(131, 139, 3, 3, strides=[1251, 9, 3, 1], requires_grad=0, device=cuda:0),\n",
      "      %onnx::Conv_573 : Float(131, strides=[1], requires_grad=0, device=cuda:0),\n",
      "      %onnx::Conv_575 : Float(1024, 131, 1, 1, strides=[131, 1, 1, 1], requires_grad=0, device=cuda:0),\n",
      "      %onnx::Conv_576 : Float(1024, strides=[1], requires_grad=0, device=cuda:0),\n",
      "      %onnx::Conv_578 : Float(1024, 512, 1, 1, strides=[512, 1, 1, 1], requires_grad=0, device=cuda:0),\n",
      "      %onnx::Conv_579 : Float(1024, strides=[1], requires_grad=0, device=cuda:0),\n",
      "      %onnx::Conv_581 : Float(137, 1024, 1, 1, strides=[1024, 1, 1, 1], requires_grad=0, device=cuda:0),\n",
      "      %onnx::Conv_582 : Float(137, strides=[1], requires_grad=0, device=cuda:0),\n",
      "      %onnx::Conv_584 : Float(138, 137, 3, 3, strides=[1233, 9, 3, 1], requires_grad=0, device=cuda:0),\n",
      "      %onnx::Conv_585 : Float(138, strides=[1], requires_grad=0, device=cuda:0),\n",
      "      %onnx::Conv_587 : Float(1024, 138, 1, 1, strides=[138, 1, 1, 1], requires_grad=0, device=cuda:0),\n",
      "      %onnx::Conv_588 : Float(1024, strides=[1], requires_grad=0, device=cuda:0),\n",
      "      %onnx::Conv_590 : Float(163, 1024, 1, 1, strides=[1024, 1, 1, 1], requires_grad=0, device=cuda:0),\n",
      "      %onnx::Conv_591 : Float(163, strides=[1], requires_grad=0, device=cuda:0),\n",
      "      %onnx::Conv_593 : Float(136, 163, 3, 3, strides=[1467, 9, 3, 1], requires_grad=0, device=cuda:0),\n",
      "      %onnx::Conv_594 : Float(136, strides=[1], requires_grad=0, device=cuda:0),\n",
      "      %onnx::Conv_596 : Float(1024, 136, 1, 1, strides=[136, 1, 1, 1], requires_grad=0, device=cuda:0),\n",
      "      %onnx::Conv_597 : Float(1024, strides=[1], requires_grad=0, device=cuda:0),\n",
      "      %onnx::Conv_599 : Float(151, 1024, 1, 1, strides=[1024, 1, 1, 1], requires_grad=0, device=cuda:0),\n",
      "      %onnx::Conv_600 : Float(151, strides=[1], requires_grad=0, device=cuda:0),\n",
      "      %onnx::Conv_602 : Float(140, 151, 3, 3, strides=[1359, 9, 3, 1], requires_grad=0, device=cuda:0),\n",
      "      %onnx::Conv_603 : Float(140, strides=[1], requires_grad=0, device=cuda:0),\n",
      "      %onnx::Conv_605 : Float(1024, 140, 1, 1, strides=[140, 1, 1, 1], requires_grad=0, device=cuda:0),\n",
      "      %onnx::Conv_606 : Float(1024, strides=[1], requires_grad=0, device=cuda:0),\n",
      "      %onnx::Conv_608 : Float(131, 1024, 1, 1, strides=[1024, 1, 1, 1], requires_grad=0, device=cuda:0),\n",
      "      %onnx::Conv_609 : Float(131, strides=[1], requires_grad=0, device=cuda:0),\n",
      "      %onnx::Conv_611 : Float(107, 131, 3, 3, strides=[1179, 9, 3, 1], requires_grad=0, device=cuda:0),\n",
      "      %onnx::Conv_612 : Float(107, strides=[1], requires_grad=0, device=cuda:0),\n",
      "      %onnx::Conv_614 : Float(1024, 107, 1, 1, strides=[107, 1, 1, 1], requires_grad=0, device=cuda:0),\n",
      "      %onnx::Conv_615 : Float(1024, strides=[1], requires_grad=0, device=cuda:0),\n",
      "      %onnx::Conv_617 : Float(146, 1024, 1, 1, strides=[1024, 1, 1, 1], requires_grad=0, device=cuda:0),\n",
      "      %onnx::Conv_618 : Float(146, strides=[1], requires_grad=0, device=cuda:0),\n",
      "      %onnx::Conv_620 : Float(81, 146, 3, 3, strides=[1314, 9, 3, 1], requires_grad=0, device=cuda:0),\n",
      "      %onnx::Conv_621 : Float(81, strides=[1], requires_grad=0, device=cuda:0),\n",
      "      %onnx::Conv_623 : Float(1024, 81, 1, 1, strides=[81, 1, 1, 1], requires_grad=0, device=cuda:0),\n",
      "      %onnx::Conv_624 : Float(1024, strides=[1], requires_grad=0, device=cuda:0),\n",
      "      %onnx::Conv_626 : Float(321, 1024, 1, 1, strides=[1024, 1, 1, 1], requires_grad=0, device=cuda:0),\n",
      "      %onnx::Conv_627 : Float(321, strides=[1], requires_grad=0, device=cuda:0),\n",
      "      %onnx::Conv_629 : Float(267, 321, 3, 3, strides=[2889, 9, 3, 1], requires_grad=0, device=cuda:0),\n",
      "      %onnx::Conv_630 : Float(267, strides=[1], requires_grad=0, device=cuda:0),\n",
      "      %onnx::Conv_632 : Float(2048, 267, 1, 1, strides=[267, 1, 1, 1], requires_grad=0, device=cuda:0),\n",
      "      %onnx::Conv_633 : Float(2048, strides=[1], requires_grad=0, device=cuda:0),\n",
      "      %onnx::Conv_635 : Float(2048, 1024, 1, 1, strides=[1024, 1, 1, 1], requires_grad=0, device=cuda:0),\n",
      "      %onnx::Conv_636 : Float(2048, strides=[1], requires_grad=0, device=cuda:0),\n",
      "      %onnx::Conv_638 : Float(299, 2048, 1, 1, strides=[2048, 1, 1, 1], requires_grad=0, device=cuda:0),\n",
      "      %onnx::Conv_639 : Float(299, strides=[1], requires_grad=0, device=cuda:0),\n",
      "      %onnx::Conv_641 : Float(249, 299, 3, 3, strides=[2691, 9, 3, 1], requires_grad=0, device=cuda:0),\n",
      "      %onnx::Conv_642 : Float(249, strides=[1], requires_grad=0, device=cuda:0),\n",
      "      %onnx::Conv_644 : Float(2048, 249, 1, 1, strides=[249, 1, 1, 1], requires_grad=0, device=cuda:0),\n",
      "      %onnx::Conv_645 : Float(2048, strides=[1], requires_grad=0, device=cuda:0),\n",
      "      %onnx::Conv_647 : Float(235, 2048, 1, 1, strides=[2048, 1, 1, 1], requires_grad=0, device=cuda:0),\n",
      "      %onnx::Conv_648 : Float(235, strides=[1], requires_grad=0, device=cuda:0),\n",
      "      %onnx::Conv_650 : Float(195, 235, 3, 3, strides=[2115, 9, 3, 1], requires_grad=0, device=cuda:0),\n",
      "      %onnx::Conv_651 : Float(195, strides=[1], requires_grad=0, device=cuda:0),\n",
      "      %onnx::Conv_653 : Float(2048, 195, 1, 1, strides=[195, 1, 1, 1], requires_grad=0, device=cuda:0),\n",
      "      %onnx::Conv_654 : Float(2048, strides=[1], requires_grad=0, device=cuda:0)):\n",
      "  %/conv1/Conv_output_0 : Float(1, 64, 960, 540, strides=[33177600, 518400, 540, 1], requires_grad=1, device=cuda:0) = onnx::Conv[dilations=[1, 1], group=1, kernel_shape=[7, 7], pads=[3, 3, 3, 3], strides=[2, 2], onnx_name=\"/conv1/Conv\"](%input.1, %onnx::Conv_497, %onnx::Conv_498), scope: core.models.cnn.pruned_resnet_mk.PrunedResNet::/torch.nn.modules.conv.Conv2d::conv1 # /home/n31v/workspace/Fedot.Industrial/venv/lib/python3.10/site-packages/torch/nn/modules/conv.py:458:0\n",
      "  %/relu/Relu_output_0 : Float(1, 64, 960, 540, strides=[33177600, 518400, 540, 1], requires_grad=1, device=cuda:0) = onnx::Relu[onnx_name=\"/relu/Relu\"](%/conv1/Conv_output_0), scope: core.models.cnn.pruned_resnet_mk.PrunedResNet::/torch.nn.modules.activation.ReLU::relu # /home/n31v/workspace/Fedot.Industrial/venv/lib/python3.10/site-packages/torch/nn/functional.py:1453:0\n",
      "  %/maxpool/MaxPool_output_0 : Float(1, 64, 480, 270, strides=[8294400, 129600, 270, 1], requires_grad=1, device=cuda:0) = onnx::MaxPool[ceil_mode=0, kernel_shape=[3, 3], pads=[1, 1, 1, 1], strides=[2, 2], onnx_name=\"/maxpool/MaxPool\"](%/relu/Relu_output_0), scope: core.models.cnn.pruned_resnet_mk.PrunedResNet::/torch.nn.modules.pooling.MaxPool2d::maxpool # /home/n31v/workspace/Fedot.Industrial/venv/lib/python3.10/site-packages/torch/nn/functional.py:780:0\n",
      "  %/layer1/layer1.0/conv1/Conv_output_0 : Float(1, 17, 480, 270, strides=[2203200, 129600, 270, 1], requires_grad=1, device=cuda:0) = onnx::Conv[dilations=[1, 1], group=1, kernel_shape=[1, 1], pads=[0, 0, 0, 0], strides=[1, 1], onnx_name=\"/layer1/layer1.0/conv1/Conv\"](%/maxpool/MaxPool_output_0, %onnx::Conv_500, %onnx::Conv_501), scope: core.models.cnn.pruned_resnet_mk.PrunedResNet::/torch.nn.modules.container.Sequential::layer1/core.models.cnn.pruned_resnet_mk.Bottleneck::layer1.0/torch.nn.modules.conv.Conv2d::conv1 # /home/n31v/workspace/Fedot.Industrial/venv/lib/python3.10/site-packages/torch/nn/modules/conv.py:458:0\n",
      "  %/layer1/layer1.0/relu/Relu_output_0 : Float(1, 17, 480, 270, strides=[2203200, 129600, 270, 1], requires_grad=1, device=cuda:0) = onnx::Relu[onnx_name=\"/layer1/layer1.0/relu/Relu\"](%/layer1/layer1.0/conv1/Conv_output_0), scope: core.models.cnn.pruned_resnet_mk.PrunedResNet::/torch.nn.modules.container.Sequential::layer1/core.models.cnn.pruned_resnet_mk.Bottleneck::layer1.0/torch.nn.modules.activation.ReLU::relu # /home/n31v/workspace/Fedot.Industrial/venv/lib/python3.10/site-packages/torch/nn/functional.py:1453:0\n",
      "  %/layer1/layer1.0/conv2/Conv_output_0 : Float(1, 29, 480, 270, strides=[3758400, 129600, 270, 1], requires_grad=1, device=cuda:0) = onnx::Conv[dilations=[1, 1], group=1, kernel_shape=[3, 3], pads=[1, 1, 1, 1], strides=[1, 1], onnx_name=\"/layer1/layer1.0/conv2/Conv\"](%/layer1/layer1.0/relu/Relu_output_0, %onnx::Conv_503, %onnx::Conv_504), scope: core.models.cnn.pruned_resnet_mk.PrunedResNet::/torch.nn.modules.container.Sequential::layer1/core.models.cnn.pruned_resnet_mk.Bottleneck::layer1.0/torch.nn.modules.conv.Conv2d::conv2 # /home/n31v/workspace/Fedot.Industrial/venv/lib/python3.10/site-packages/torch/nn/modules/conv.py:458:0\n",
      "  %/layer1/layer1.0/relu_1/Relu_output_0 : Float(1, 29, 480, 270, strides=[3758400, 129600, 270, 1], requires_grad=1, device=cuda:0) = onnx::Relu[onnx_name=\"/layer1/layer1.0/relu_1/Relu\"](%/layer1/layer1.0/conv2/Conv_output_0), scope: core.models.cnn.pruned_resnet_mk.PrunedResNet::/torch.nn.modules.container.Sequential::layer1/core.models.cnn.pruned_resnet_mk.Bottleneck::layer1.0/torch.nn.modules.activation.ReLU::relu # /home/n31v/workspace/Fedot.Industrial/venv/lib/python3.10/site-packages/torch/nn/functional.py:1453:0\n",
      "  %/layer1/layer1.0/conv3/Conv_output_0 : Float(1, 256, 480, 270, strides=[33177600, 129600, 270, 1], requires_grad=1, device=cuda:0) = onnx::Conv[dilations=[1, 1], group=1, kernel_shape=[1, 1], pads=[0, 0, 0, 0], strides=[1, 1], onnx_name=\"/layer1/layer1.0/conv3/Conv\"](%/layer1/layer1.0/relu_1/Relu_output_0, %onnx::Conv_506, %onnx::Conv_507), scope: core.models.cnn.pruned_resnet_mk.PrunedResNet::/torch.nn.modules.container.Sequential::layer1/core.models.cnn.pruned_resnet_mk.Bottleneck::layer1.0/torch.nn.modules.conv.Conv2d::conv3 # /home/n31v/workspace/Fedot.Industrial/venv/lib/python3.10/site-packages/torch/nn/modules/conv.py:458:0\n",
      "  %/layer1/layer1.0/downsample/downsample.0/Conv_output_0 : Float(1, 256, 480, 270, strides=[33177600, 129600, 270, 1], requires_grad=1, device=cuda:0) = onnx::Conv[dilations=[1, 1], group=1, kernel_shape=[1, 1], pads=[0, 0, 0, 0], strides=[1, 1], onnx_name=\"/layer1/layer1.0/downsample/downsample.0/Conv\"](%/maxpool/MaxPool_output_0, %onnx::Conv_509, %onnx::Conv_510), scope: core.models.cnn.pruned_resnet_mk.PrunedResNet::/torch.nn.modules.container.Sequential::layer1/core.models.cnn.pruned_resnet_mk.Bottleneck::layer1.0/torch.nn.modules.container.Sequential::downsample/torch.nn.modules.conv.Conv2d::downsample.0 # /home/n31v/workspace/Fedot.Industrial/venv/lib/python3.10/site-packages/torch/nn/modules/conv.py:458:0\n",
      "  %/layer1/layer1.0/Add_output_0 : Float(1, 256, 480, 270, strides=[33177600, 129600, 270, 1], requires_grad=1, device=cuda:0) = onnx::Add[onnx_name=\"/layer1/layer1.0/Add\"](%/layer1/layer1.0/conv3/Conv_output_0, %/layer1/layer1.0/downsample/downsample.0/Conv_output_0), scope: core.models.cnn.pruned_resnet_mk.PrunedResNet::/torch.nn.modules.container.Sequential::layer1/core.models.cnn.pruned_resnet_mk.Bottleneck::layer1.0 # /home/n31v/workspace/Fedot.Industrial/core/models/cnn/pruned_resnet_mk.py:78:0\n",
      "  %/layer1/layer1.0/relu_2/Relu_output_0 : Float(1, 256, 480, 270, strides=[33177600, 129600, 270, 1], requires_grad=1, device=cuda:0) = onnx::Relu[onnx_name=\"/layer1/layer1.0/relu_2/Relu\"](%/layer1/layer1.0/Add_output_0), scope: core.models.cnn.pruned_resnet_mk.PrunedResNet::/torch.nn.modules.container.Sequential::layer1/core.models.cnn.pruned_resnet_mk.Bottleneck::layer1.0/torch.nn.modules.activation.ReLU::relu # /home/n31v/workspace/Fedot.Industrial/venv/lib/python3.10/site-packages/torch/nn/functional.py:1453:0\n",
      "  %/layer1/layer1.1/conv1/Conv_output_0 : Float(1, 30, 480, 270, strides=[3888000, 129600, 270, 1], requires_grad=1, device=cuda:0) = onnx::Conv[dilations=[1, 1], group=1, kernel_shape=[1, 1], pads=[0, 0, 0, 0], strides=[1, 1], onnx_name=\"/layer1/layer1.1/conv1/Conv\"](%/layer1/layer1.0/relu_2/Relu_output_0, %onnx::Conv_512, %onnx::Conv_513), scope: core.models.cnn.pruned_resnet_mk.PrunedResNet::/torch.nn.modules.container.Sequential::layer1/core.models.cnn.pruned_resnet_mk.Bottleneck::layer1.1/torch.nn.modules.conv.Conv2d::conv1 # /home/n31v/workspace/Fedot.Industrial/venv/lib/python3.10/site-packages/torch/nn/modules/conv.py:458:0\n",
      "  %/layer1/layer1.1/relu/Relu_output_0 : Float(1, 30, 480, 270, strides=[3888000, 129600, 270, 1], requires_grad=1, device=cuda:0) = onnx::Relu[onnx_name=\"/layer1/layer1.1/relu/Relu\"](%/layer1/layer1.1/conv1/Conv_output_0), scope: core.models.cnn.pruned_resnet_mk.PrunedResNet::/torch.nn.modules.container.Sequential::layer1/core.models.cnn.pruned_resnet_mk.Bottleneck::layer1.1/torch.nn.modules.activation.ReLU::relu # /home/n31v/workspace/Fedot.Industrial/venv/lib/python3.10/site-packages/torch/nn/functional.py:1453:0\n",
      "  %/layer1/layer1.1/conv2/Conv_output_0 : Float(1, 33, 480, 270, strides=[4276800, 129600, 270, 1], requires_grad=1, device=cuda:0) = onnx::Conv[dilations=[1, 1], group=1, kernel_shape=[3, 3], pads=[1, 1, 1, 1], strides=[1, 1], onnx_name=\"/layer1/layer1.1/conv2/Conv\"](%/layer1/layer1.1/relu/Relu_output_0, %onnx::Conv_515, %onnx::Conv_516), scope: core.models.cnn.pruned_resnet_mk.PrunedResNet::/torch.nn.modules.container.Sequential::layer1/core.models.cnn.pruned_resnet_mk.Bottleneck::layer1.1/torch.nn.modules.conv.Conv2d::conv2 # /home/n31v/workspace/Fedot.Industrial/venv/lib/python3.10/site-packages/torch/nn/modules/conv.py:458:0\n",
      "  %/layer1/layer1.1/relu_1/Relu_output_0 : Float(1, 33, 480, 270, strides=[4276800, 129600, 270, 1], requires_grad=1, device=cuda:0) = onnx::Relu[onnx_name=\"/layer1/layer1.1/relu_1/Relu\"](%/layer1/layer1.1/conv2/Conv_output_0), scope: core.models.cnn.pruned_resnet_mk.PrunedResNet::/torch.nn.modules.container.Sequential::layer1/core.models.cnn.pruned_resnet_mk.Bottleneck::layer1.1/torch.nn.modules.activation.ReLU::relu # /home/n31v/workspace/Fedot.Industrial/venv/lib/python3.10/site-packages/torch/nn/functional.py:1453:0\n",
      "  %/layer1/layer1.1/conv3/Conv_output_0 : Float(1, 256, 480, 270, strides=[33177600, 129600, 270, 1], requires_grad=1, device=cuda:0) = onnx::Conv[dilations=[1, 1], group=1, kernel_shape=[1, 1], pads=[0, 0, 0, 0], strides=[1, 1], onnx_name=\"/layer1/layer1.1/conv3/Conv\"](%/layer1/layer1.1/relu_1/Relu_output_0, %onnx::Conv_518, %onnx::Conv_519), scope: core.models.cnn.pruned_resnet_mk.PrunedResNet::/torch.nn.modules.container.Sequential::layer1/core.models.cnn.pruned_resnet_mk.Bottleneck::layer1.1/torch.nn.modules.conv.Conv2d::conv3 # /home/n31v/workspace/Fedot.Industrial/venv/lib/python3.10/site-packages/torch/nn/modules/conv.py:458:0\n",
      "  %/layer1/layer1.1/Add_output_0 : Float(1, 256, 480, 270, strides=[33177600, 129600, 270, 1], requires_grad=1, device=cuda:0) = onnx::Add[onnx_name=\"/layer1/layer1.1/Add\"](%/layer1/layer1.1/conv3/Conv_output_0, %/layer1/layer1.0/relu_2/Relu_output_0), scope: core.models.cnn.pruned_resnet_mk.PrunedResNet::/torch.nn.modules.container.Sequential::layer1/core.models.cnn.pruned_resnet_mk.Bottleneck::layer1.1 # /home/n31v/workspace/Fedot.Industrial/core/models/cnn/pruned_resnet_mk.py:78:0\n",
      "  %/layer1/layer1.1/relu_2/Relu_output_0 : Float(1, 256, 480, 270, strides=[33177600, 129600, 270, 1], requires_grad=1, device=cuda:0) = onnx::Relu[onnx_name=\"/layer1/layer1.1/relu_2/Relu\"](%/layer1/layer1.1/Add_output_0), scope: core.models.cnn.pruned_resnet_mk.PrunedResNet::/torch.nn.modules.container.Sequential::layer1/core.models.cnn.pruned_resnet_mk.Bottleneck::layer1.1/torch.nn.modules.activation.ReLU::relu # /home/n31v/workspace/Fedot.Industrial/venv/lib/python3.10/site-packages/torch/nn/functional.py:1453:0\n",
      "  %/layer1/layer1.2/conv1/Conv_output_0 : Float(1, 32, 480, 270, strides=[4147200, 129600, 270, 1], requires_grad=1, device=cuda:0) = onnx::Conv[dilations=[1, 1], group=1, kernel_shape=[1, 1], pads=[0, 0, 0, 0], strides=[1, 1], onnx_name=\"/layer1/layer1.2/conv1/Conv\"](%/layer1/layer1.1/relu_2/Relu_output_0, %onnx::Conv_521, %onnx::Conv_522), scope: core.models.cnn.pruned_resnet_mk.PrunedResNet::/torch.nn.modules.container.Sequential::layer1/core.models.cnn.pruned_resnet_mk.Bottleneck::layer1.2/torch.nn.modules.conv.Conv2d::conv1 # /home/n31v/workspace/Fedot.Industrial/venv/lib/python3.10/site-packages/torch/nn/modules/conv.py:458:0\n",
      "  %/layer1/layer1.2/relu/Relu_output_0 : Float(1, 32, 480, 270, strides=[4147200, 129600, 270, 1], requires_grad=1, device=cuda:0) = onnx::Relu[onnx_name=\"/layer1/layer1.2/relu/Relu\"](%/layer1/layer1.2/conv1/Conv_output_0), scope: core.models.cnn.pruned_resnet_mk.PrunedResNet::/torch.nn.modules.container.Sequential::layer1/core.models.cnn.pruned_resnet_mk.Bottleneck::layer1.2/torch.nn.modules.activation.ReLU::relu # /home/n31v/workspace/Fedot.Industrial/venv/lib/python3.10/site-packages/torch/nn/functional.py:1453:0\n",
      "  %/layer1/layer1.2/conv2/Conv_output_0 : Float(1, 31, 480, 270, strides=[4017600, 129600, 270, 1], requires_grad=1, device=cuda:0) = onnx::Conv[dilations=[1, 1], group=1, kernel_shape=[3, 3], pads=[1, 1, 1, 1], strides=[1, 1], onnx_name=\"/layer1/layer1.2/conv2/Conv\"](%/layer1/layer1.2/relu/Relu_output_0, %onnx::Conv_524, %onnx::Conv_525), scope: core.models.cnn.pruned_resnet_mk.PrunedResNet::/torch.nn.modules.container.Sequential::layer1/core.models.cnn.pruned_resnet_mk.Bottleneck::layer1.2/torch.nn.modules.conv.Conv2d::conv2 # /home/n31v/workspace/Fedot.Industrial/venv/lib/python3.10/site-packages/torch/nn/modules/conv.py:458:0\n",
      "  %/layer1/layer1.2/relu_1/Relu_output_0 : Float(1, 31, 480, 270, strides=[4017600, 129600, 270, 1], requires_grad=1, device=cuda:0) = onnx::Relu[onnx_name=\"/layer1/layer1.2/relu_1/Relu\"](%/layer1/layer1.2/conv2/Conv_output_0), scope: core.models.cnn.pruned_resnet_mk.PrunedResNet::/torch.nn.modules.container.Sequential::layer1/core.models.cnn.pruned_resnet_mk.Bottleneck::layer1.2/torch.nn.modules.activation.ReLU::relu # /home/n31v/workspace/Fedot.Industrial/venv/lib/python3.10/site-packages/torch/nn/functional.py:1453:0\n",
      "  %/layer1/layer1.2/conv3/Conv_output_0 : Float(1, 256, 480, 270, strides=[33177600, 129600, 270, 1], requires_grad=1, device=cuda:0) = onnx::Conv[dilations=[1, 1], group=1, kernel_shape=[1, 1], pads=[0, 0, 0, 0], strides=[1, 1], onnx_name=\"/layer1/layer1.2/conv3/Conv\"](%/layer1/layer1.2/relu_1/Relu_output_0, %onnx::Conv_527, %onnx::Conv_528), scope: core.models.cnn.pruned_resnet_mk.PrunedResNet::/torch.nn.modules.container.Sequential::layer1/core.models.cnn.pruned_resnet_mk.Bottleneck::layer1.2/torch.nn.modules.conv.Conv2d::conv3 # /home/n31v/workspace/Fedot.Industrial/venv/lib/python3.10/site-packages/torch/nn/modules/conv.py:458:0\n",
      "  %/layer1/layer1.2/Add_output_0 : Float(1, 256, 480, 270, strides=[33177600, 129600, 270, 1], requires_grad=1, device=cuda:0) = onnx::Add[onnx_name=\"/layer1/layer1.2/Add\"](%/layer1/layer1.2/conv3/Conv_output_0, %/layer1/layer1.1/relu_2/Relu_output_0), scope: core.models.cnn.pruned_resnet_mk.PrunedResNet::/torch.nn.modules.container.Sequential::layer1/core.models.cnn.pruned_resnet_mk.Bottleneck::layer1.2 # /home/n31v/workspace/Fedot.Industrial/core/models/cnn/pruned_resnet_mk.py:78:0\n",
      "  %/layer1/layer1.2/relu_2/Relu_output_0 : Float(1, 256, 480, 270, strides=[33177600, 129600, 270, 1], requires_grad=1, device=cuda:0) = onnx::Relu[onnx_name=\"/layer1/layer1.2/relu_2/Relu\"](%/layer1/layer1.2/Add_output_0), scope: core.models.cnn.pruned_resnet_mk.PrunedResNet::/torch.nn.modules.container.Sequential::layer1/core.models.cnn.pruned_resnet_mk.Bottleneck::layer1.2/torch.nn.modules.activation.ReLU::relu # /home/n31v/workspace/Fedot.Industrial/venv/lib/python3.10/site-packages/torch/nn/functional.py:1453:0\n",
      "  %/layer2/layer2.0/conv1/Conv_output_0 : Float(1, 73, 480, 270, strides=[9460800, 129600, 270, 1], requires_grad=1, device=cuda:0) = onnx::Conv[dilations=[1, 1], group=1, kernel_shape=[1, 1], pads=[0, 0, 0, 0], strides=[1, 1], onnx_name=\"/layer2/layer2.0/conv1/Conv\"](%/layer1/layer1.2/relu_2/Relu_output_0, %onnx::Conv_530, %onnx::Conv_531), scope: core.models.cnn.pruned_resnet_mk.PrunedResNet::/torch.nn.modules.container.Sequential::layer2/core.models.cnn.pruned_resnet_mk.Bottleneck::layer2.0/torch.nn.modules.conv.Conv2d::conv1 # /home/n31v/workspace/Fedot.Industrial/venv/lib/python3.10/site-packages/torch/nn/modules/conv.py:458:0\n",
      "  %/layer2/layer2.0/relu/Relu_output_0 : Float(1, 73, 480, 270, strides=[9460800, 129600, 270, 1], requires_grad=1, device=cuda:0) = onnx::Relu[onnx_name=\"/layer2/layer2.0/relu/Relu\"](%/layer2/layer2.0/conv1/Conv_output_0), scope: core.models.cnn.pruned_resnet_mk.PrunedResNet::/torch.nn.modules.container.Sequential::layer2/core.models.cnn.pruned_resnet_mk.Bottleneck::layer2.0/torch.nn.modules.activation.ReLU::relu # /home/n31v/workspace/Fedot.Industrial/venv/lib/python3.10/site-packages/torch/nn/functional.py:1453:0\n",
      "  %/layer2/layer2.0/conv2/Conv_output_0 : Float(1, 81, 240, 135, strides=[2624400, 32400, 135, 1], requires_grad=1, device=cuda:0) = onnx::Conv[dilations=[1, 1], group=1, kernel_shape=[3, 3], pads=[1, 1, 1, 1], strides=[2, 2], onnx_name=\"/layer2/layer2.0/conv2/Conv\"](%/layer2/layer2.0/relu/Relu_output_0, %onnx::Conv_533, %onnx::Conv_534), scope: core.models.cnn.pruned_resnet_mk.PrunedResNet::/torch.nn.modules.container.Sequential::layer2/core.models.cnn.pruned_resnet_mk.Bottleneck::layer2.0/torch.nn.modules.conv.Conv2d::conv2 # /home/n31v/workspace/Fedot.Industrial/venv/lib/python3.10/site-packages/torch/nn/modules/conv.py:458:0\n",
      "  %/layer2/layer2.0/relu_1/Relu_output_0 : Float(1, 81, 240, 135, strides=[2624400, 32400, 135, 1], requires_grad=1, device=cuda:0) = onnx::Relu[onnx_name=\"/layer2/layer2.0/relu_1/Relu\"](%/layer2/layer2.0/conv2/Conv_output_0), scope: core.models.cnn.pruned_resnet_mk.PrunedResNet::/torch.nn.modules.container.Sequential::layer2/core.models.cnn.pruned_resnet_mk.Bottleneck::layer2.0/torch.nn.modules.activation.ReLU::relu # /home/n31v/workspace/Fedot.Industrial/venv/lib/python3.10/site-packages/torch/nn/functional.py:1453:0\n",
      "  %/layer2/layer2.0/conv3/Conv_output_0 : Float(1, 512, 240, 135, strides=[16588800, 32400, 135, 1], requires_grad=1, device=cuda:0) = onnx::Conv[dilations=[1, 1], group=1, kernel_shape=[1, 1], pads=[0, 0, 0, 0], strides=[1, 1], onnx_name=\"/layer2/layer2.0/conv3/Conv\"](%/layer2/layer2.0/relu_1/Relu_output_0, %onnx::Conv_536, %onnx::Conv_537), scope: core.models.cnn.pruned_resnet_mk.PrunedResNet::/torch.nn.modules.container.Sequential::layer2/core.models.cnn.pruned_resnet_mk.Bottleneck::layer2.0/torch.nn.modules.conv.Conv2d::conv3 # /home/n31v/workspace/Fedot.Industrial/venv/lib/python3.10/site-packages/torch/nn/modules/conv.py:458:0\n",
      "  %/layer2/layer2.0/downsample/downsample.0/Conv_output_0 : Float(1, 512, 240, 135, strides=[16588800, 32400, 135, 1], requires_grad=1, device=cuda:0) = onnx::Conv[dilations=[1, 1], group=1, kernel_shape=[1, 1], pads=[0, 0, 0, 0], strides=[2, 2], onnx_name=\"/layer2/layer2.0/downsample/downsample.0/Conv\"](%/layer1/layer1.2/relu_2/Relu_output_0, %onnx::Conv_539, %onnx::Conv_540), scope: core.models.cnn.pruned_resnet_mk.PrunedResNet::/torch.nn.modules.container.Sequential::layer2/core.models.cnn.pruned_resnet_mk.Bottleneck::layer2.0/torch.nn.modules.container.Sequential::downsample/torch.nn.modules.conv.Conv2d::downsample.0 # /home/n31v/workspace/Fedot.Industrial/venv/lib/python3.10/site-packages/torch/nn/modules/conv.py:458:0\n",
      "  %/layer2/layer2.0/Add_output_0 : Float(1, 512, 240, 135, strides=[16588800, 32400, 135, 1], requires_grad=1, device=cuda:0) = onnx::Add[onnx_name=\"/layer2/layer2.0/Add\"](%/layer2/layer2.0/conv3/Conv_output_0, %/layer2/layer2.0/downsample/downsample.0/Conv_output_0), scope: core.models.cnn.pruned_resnet_mk.PrunedResNet::/torch.nn.modules.container.Sequential::layer2/core.models.cnn.pruned_resnet_mk.Bottleneck::layer2.0 # /home/n31v/workspace/Fedot.Industrial/core/models/cnn/pruned_resnet_mk.py:78:0\n",
      "  %/layer2/layer2.0/relu_2/Relu_output_0 : Float(1, 512, 240, 135, strides=[16588800, 32400, 135, 1], requires_grad=1, device=cuda:0) = onnx::Relu[onnx_name=\"/layer2/layer2.0/relu_2/Relu\"](%/layer2/layer2.0/Add_output_0), scope: core.models.cnn.pruned_resnet_mk.PrunedResNet::/torch.nn.modules.container.Sequential::layer2/core.models.cnn.pruned_resnet_mk.Bottleneck::layer2.0/torch.nn.modules.activation.ReLU::relu # /home/n31v/workspace/Fedot.Industrial/venv/lib/python3.10/site-packages/torch/nn/functional.py:1453:0\n",
      "  %/layer2/layer2.1/conv1/Conv_output_0 : Float(1, 85, 240, 135, strides=[2754000, 32400, 135, 1], requires_grad=1, device=cuda:0) = onnx::Conv[dilations=[1, 1], group=1, kernel_shape=[1, 1], pads=[0, 0, 0, 0], strides=[1, 1], onnx_name=\"/layer2/layer2.1/conv1/Conv\"](%/layer2/layer2.0/relu_2/Relu_output_0, %onnx::Conv_542, %onnx::Conv_543), scope: core.models.cnn.pruned_resnet_mk.PrunedResNet::/torch.nn.modules.container.Sequential::layer2/core.models.cnn.pruned_resnet_mk.Bottleneck::layer2.1/torch.nn.modules.conv.Conv2d::conv1 # /home/n31v/workspace/Fedot.Industrial/venv/lib/python3.10/site-packages/torch/nn/modules/conv.py:458:0\n",
      "  %/layer2/layer2.1/relu/Relu_output_0 : Float(1, 85, 240, 135, strides=[2754000, 32400, 135, 1], requires_grad=1, device=cuda:0) = onnx::Relu[onnx_name=\"/layer2/layer2.1/relu/Relu\"](%/layer2/layer2.1/conv1/Conv_output_0), scope: core.models.cnn.pruned_resnet_mk.PrunedResNet::/torch.nn.modules.container.Sequential::layer2/core.models.cnn.pruned_resnet_mk.Bottleneck::layer2.1/torch.nn.modules.activation.ReLU::relu # /home/n31v/workspace/Fedot.Industrial/venv/lib/python3.10/site-packages/torch/nn/functional.py:1453:0\n",
      "  %/layer2/layer2.1/conv2/Conv_output_0 : Float(1, 83, 240, 135, strides=[2689200, 32400, 135, 1], requires_grad=1, device=cuda:0) = onnx::Conv[dilations=[1, 1], group=1, kernel_shape=[3, 3], pads=[1, 1, 1, 1], strides=[1, 1], onnx_name=\"/layer2/layer2.1/conv2/Conv\"](%/layer2/layer2.1/relu/Relu_output_0, %onnx::Conv_545, %onnx::Conv_546), scope: core.models.cnn.pruned_resnet_mk.PrunedResNet::/torch.nn.modules.container.Sequential::layer2/core.models.cnn.pruned_resnet_mk.Bottleneck::layer2.1/torch.nn.modules.conv.Conv2d::conv2 # /home/n31v/workspace/Fedot.Industrial/venv/lib/python3.10/site-packages/torch/nn/modules/conv.py:458:0\n",
      "  %/layer2/layer2.1/relu_1/Relu_output_0 : Float(1, 83, 240, 135, strides=[2689200, 32400, 135, 1], requires_grad=1, device=cuda:0) = onnx::Relu[onnx_name=\"/layer2/layer2.1/relu_1/Relu\"](%/layer2/layer2.1/conv2/Conv_output_0), scope: core.models.cnn.pruned_resnet_mk.PrunedResNet::/torch.nn.modules.container.Sequential::layer2/core.models.cnn.pruned_resnet_mk.Bottleneck::layer2.1/torch.nn.modules.activation.ReLU::relu # /home/n31v/workspace/Fedot.Industrial/venv/lib/python3.10/site-packages/torch/nn/functional.py:1453:0\n",
      "  %/layer2/layer2.1/conv3/Conv_output_0 : Float(1, 512, 240, 135, strides=[16588800, 32400, 135, 1], requires_grad=1, device=cuda:0) = onnx::Conv[dilations=[1, 1], group=1, kernel_shape=[1, 1], pads=[0, 0, 0, 0], strides=[1, 1], onnx_name=\"/layer2/layer2.1/conv3/Conv\"](%/layer2/layer2.1/relu_1/Relu_output_0, %onnx::Conv_548, %onnx::Conv_549), scope: core.models.cnn.pruned_resnet_mk.PrunedResNet::/torch.nn.modules.container.Sequential::layer2/core.models.cnn.pruned_resnet_mk.Bottleneck::layer2.1/torch.nn.modules.conv.Conv2d::conv3 # /home/n31v/workspace/Fedot.Industrial/venv/lib/python3.10/site-packages/torch/nn/modules/conv.py:458:0\n",
      "  %/layer2/layer2.1/Add_output_0 : Float(1, 512, 240, 135, strides=[16588800, 32400, 135, 1], requires_grad=1, device=cuda:0) = onnx::Add[onnx_name=\"/layer2/layer2.1/Add\"](%/layer2/layer2.1/conv3/Conv_output_0, %/layer2/layer2.0/relu_2/Relu_output_0), scope: core.models.cnn.pruned_resnet_mk.PrunedResNet::/torch.nn.modules.container.Sequential::layer2/core.models.cnn.pruned_resnet_mk.Bottleneck::layer2.1 # /home/n31v/workspace/Fedot.Industrial/core/models/cnn/pruned_resnet_mk.py:78:0\n",
      "  %/layer2/layer2.1/relu_2/Relu_output_0 : Float(1, 512, 240, 135, strides=[16588800, 32400, 135, 1], requires_grad=1, device=cuda:0) = onnx::Relu[onnx_name=\"/layer2/layer2.1/relu_2/Relu\"](%/layer2/layer2.1/Add_output_0), scope: core.models.cnn.pruned_resnet_mk.PrunedResNet::/torch.nn.modules.container.Sequential::layer2/core.models.cnn.pruned_resnet_mk.Bottleneck::layer2.1/torch.nn.modules.activation.ReLU::relu # /home/n31v/workspace/Fedot.Industrial/venv/lib/python3.10/site-packages/torch/nn/functional.py:1453:0\n",
      "  %/layer2/layer2.2/conv1/Conv_output_0 : Float(1, 76, 240, 135, strides=[2462400, 32400, 135, 1], requires_grad=1, device=cuda:0) = onnx::Conv[dilations=[1, 1], group=1, kernel_shape=[1, 1], pads=[0, 0, 0, 0], strides=[1, 1], onnx_name=\"/layer2/layer2.2/conv1/Conv\"](%/layer2/layer2.1/relu_2/Relu_output_0, %onnx::Conv_551, %onnx::Conv_552), scope: core.models.cnn.pruned_resnet_mk.PrunedResNet::/torch.nn.modules.container.Sequential::layer2/core.models.cnn.pruned_resnet_mk.Bottleneck::layer2.2/torch.nn.modules.conv.Conv2d::conv1 # /home/n31v/workspace/Fedot.Industrial/venv/lib/python3.10/site-packages/torch/nn/modules/conv.py:458:0\n",
      "  %/layer2/layer2.2/relu/Relu_output_0 : Float(1, 76, 240, 135, strides=[2462400, 32400, 135, 1], requires_grad=1, device=cuda:0) = onnx::Relu[onnx_name=\"/layer2/layer2.2/relu/Relu\"](%/layer2/layer2.2/conv1/Conv_output_0), scope: core.models.cnn.pruned_resnet_mk.PrunedResNet::/torch.nn.modules.container.Sequential::layer2/core.models.cnn.pruned_resnet_mk.Bottleneck::layer2.2/torch.nn.modules.activation.ReLU::relu # /home/n31v/workspace/Fedot.Industrial/venv/lib/python3.10/site-packages/torch/nn/functional.py:1453:0\n",
      "  %/layer2/layer2.2/conv2/Conv_output_0 : Float(1, 68, 240, 135, strides=[2203200, 32400, 135, 1], requires_grad=1, device=cuda:0) = onnx::Conv[dilations=[1, 1], group=1, kernel_shape=[3, 3], pads=[1, 1, 1, 1], strides=[1, 1], onnx_name=\"/layer2/layer2.2/conv2/Conv\"](%/layer2/layer2.2/relu/Relu_output_0, %onnx::Conv_554, %onnx::Conv_555), scope: core.models.cnn.pruned_resnet_mk.PrunedResNet::/torch.nn.modules.container.Sequential::layer2/core.models.cnn.pruned_resnet_mk.Bottleneck::layer2.2/torch.nn.modules.conv.Conv2d::conv2 # /home/n31v/workspace/Fedot.Industrial/venv/lib/python3.10/site-packages/torch/nn/modules/conv.py:458:0\n",
      "  %/layer2/layer2.2/relu_1/Relu_output_0 : Float(1, 68, 240, 135, strides=[2203200, 32400, 135, 1], requires_grad=1, device=cuda:0) = onnx::Relu[onnx_name=\"/layer2/layer2.2/relu_1/Relu\"](%/layer2/layer2.2/conv2/Conv_output_0), scope: core.models.cnn.pruned_resnet_mk.PrunedResNet::/torch.nn.modules.container.Sequential::layer2/core.models.cnn.pruned_resnet_mk.Bottleneck::layer2.2/torch.nn.modules.activation.ReLU::relu # /home/n31v/workspace/Fedot.Industrial/venv/lib/python3.10/site-packages/torch/nn/functional.py:1453:0\n",
      "  %/layer2/layer2.2/conv3/Conv_output_0 : Float(1, 512, 240, 135, strides=[16588800, 32400, 135, 1], requires_grad=1, device=cuda:0) = onnx::Conv[dilations=[1, 1], group=1, kernel_shape=[1, 1], pads=[0, 0, 0, 0], strides=[1, 1], onnx_name=\"/layer2/layer2.2/conv3/Conv\"](%/layer2/layer2.2/relu_1/Relu_output_0, %onnx::Conv_557, %onnx::Conv_558), scope: core.models.cnn.pruned_resnet_mk.PrunedResNet::/torch.nn.modules.container.Sequential::layer2/core.models.cnn.pruned_resnet_mk.Bottleneck::layer2.2/torch.nn.modules.conv.Conv2d::conv3 # /home/n31v/workspace/Fedot.Industrial/venv/lib/python3.10/site-packages/torch/nn/modules/conv.py:458:0\n",
      "  %/layer2/layer2.2/Add_output_0 : Float(1, 512, 240, 135, strides=[16588800, 32400, 135, 1], requires_grad=1, device=cuda:0) = onnx::Add[onnx_name=\"/layer2/layer2.2/Add\"](%/layer2/layer2.2/conv3/Conv_output_0, %/layer2/layer2.1/relu_2/Relu_output_0), scope: core.models.cnn.pruned_resnet_mk.PrunedResNet::/torch.nn.modules.container.Sequential::layer2/core.models.cnn.pruned_resnet_mk.Bottleneck::layer2.2 # /home/n31v/workspace/Fedot.Industrial/core/models/cnn/pruned_resnet_mk.py:78:0\n",
      "  %/layer2/layer2.2/relu_2/Relu_output_0 : Float(1, 512, 240, 135, strides=[16588800, 32400, 135, 1], requires_grad=1, device=cuda:0) = onnx::Relu[onnx_name=\"/layer2/layer2.2/relu_2/Relu\"](%/layer2/layer2.2/Add_output_0), scope: core.models.cnn.pruned_resnet_mk.PrunedResNet::/torch.nn.modules.container.Sequential::layer2/core.models.cnn.pruned_resnet_mk.Bottleneck::layer2.2/torch.nn.modules.activation.ReLU::relu # /home/n31v/workspace/Fedot.Industrial/venv/lib/python3.10/site-packages/torch/nn/functional.py:1453:0\n",
      "  %/layer2/layer2.3/conv1/Conv_output_0 : Float(1, 75, 240, 135, strides=[2430000, 32400, 135, 1], requires_grad=1, device=cuda:0) = onnx::Conv[dilations=[1, 1], group=1, kernel_shape=[1, 1], pads=[0, 0, 0, 0], strides=[1, 1], onnx_name=\"/layer2/layer2.3/conv1/Conv\"](%/layer2/layer2.2/relu_2/Relu_output_0, %onnx::Conv_560, %onnx::Conv_561), scope: core.models.cnn.pruned_resnet_mk.PrunedResNet::/torch.nn.modules.container.Sequential::layer2/core.models.cnn.pruned_resnet_mk.Bottleneck::layer2.3/torch.nn.modules.conv.Conv2d::conv1 # /home/n31v/workspace/Fedot.Industrial/venv/lib/python3.10/site-packages/torch/nn/modules/conv.py:458:0\n",
      "  %/layer2/layer2.3/relu/Relu_output_0 : Float(1, 75, 240, 135, strides=[2430000, 32400, 135, 1], requires_grad=1, device=cuda:0) = onnx::Relu[onnx_name=\"/layer2/layer2.3/relu/Relu\"](%/layer2/layer2.3/conv1/Conv_output_0), scope: core.models.cnn.pruned_resnet_mk.PrunedResNet::/torch.nn.modules.container.Sequential::layer2/core.models.cnn.pruned_resnet_mk.Bottleneck::layer2.3/torch.nn.modules.activation.ReLU::relu # /home/n31v/workspace/Fedot.Industrial/venv/lib/python3.10/site-packages/torch/nn/functional.py:1453:0\n",
      "  %/layer2/layer2.3/conv2/Conv_output_0 : Float(1, 70, 240, 135, strides=[2268000, 32400, 135, 1], requires_grad=1, device=cuda:0) = onnx::Conv[dilations=[1, 1], group=1, kernel_shape=[3, 3], pads=[1, 1, 1, 1], strides=[1, 1], onnx_name=\"/layer2/layer2.3/conv2/Conv\"](%/layer2/layer2.3/relu/Relu_output_0, %onnx::Conv_563, %onnx::Conv_564), scope: core.models.cnn.pruned_resnet_mk.PrunedResNet::/torch.nn.modules.container.Sequential::layer2/core.models.cnn.pruned_resnet_mk.Bottleneck::layer2.3/torch.nn.modules.conv.Conv2d::conv2 # /home/n31v/workspace/Fedot.Industrial/venv/lib/python3.10/site-packages/torch/nn/modules/conv.py:458:0\n",
      "  %/layer2/layer2.3/relu_1/Relu_output_0 : Float(1, 70, 240, 135, strides=[2268000, 32400, 135, 1], requires_grad=1, device=cuda:0) = onnx::Relu[onnx_name=\"/layer2/layer2.3/relu_1/Relu\"](%/layer2/layer2.3/conv2/Conv_output_0), scope: core.models.cnn.pruned_resnet_mk.PrunedResNet::/torch.nn.modules.container.Sequential::layer2/core.models.cnn.pruned_resnet_mk.Bottleneck::layer2.3/torch.nn.modules.activation.ReLU::relu # /home/n31v/workspace/Fedot.Industrial/venv/lib/python3.10/site-packages/torch/nn/functional.py:1453:0\n",
      "  %/layer2/layer2.3/conv3/Conv_output_0 : Float(1, 512, 240, 135, strides=[16588800, 32400, 135, 1], requires_grad=1, device=cuda:0) = onnx::Conv[dilations=[1, 1], group=1, kernel_shape=[1, 1], pads=[0, 0, 0, 0], strides=[1, 1], onnx_name=\"/layer2/layer2.3/conv3/Conv\"](%/layer2/layer2.3/relu_1/Relu_output_0, %onnx::Conv_566, %onnx::Conv_567), scope: core.models.cnn.pruned_resnet_mk.PrunedResNet::/torch.nn.modules.container.Sequential::layer2/core.models.cnn.pruned_resnet_mk.Bottleneck::layer2.3/torch.nn.modules.conv.Conv2d::conv3 # /home/n31v/workspace/Fedot.Industrial/venv/lib/python3.10/site-packages/torch/nn/modules/conv.py:458:0\n",
      "  %/layer2/layer2.3/Add_output_0 : Float(1, 512, 240, 135, strides=[16588800, 32400, 135, 1], requires_grad=1, device=cuda:0) = onnx::Add[onnx_name=\"/layer2/layer2.3/Add\"](%/layer2/layer2.3/conv3/Conv_output_0, %/layer2/layer2.2/relu_2/Relu_output_0), scope: core.models.cnn.pruned_resnet_mk.PrunedResNet::/torch.nn.modules.container.Sequential::layer2/core.models.cnn.pruned_resnet_mk.Bottleneck::layer2.3 # /home/n31v/workspace/Fedot.Industrial/core/models/cnn/pruned_resnet_mk.py:78:0\n",
      "  %/layer2/layer2.3/relu_2/Relu_output_0 : Float(1, 512, 240, 135, strides=[16588800, 32400, 135, 1], requires_grad=1, device=cuda:0) = onnx::Relu[onnx_name=\"/layer2/layer2.3/relu_2/Relu\"](%/layer2/layer2.3/Add_output_0), scope: core.models.cnn.pruned_resnet_mk.PrunedResNet::/torch.nn.modules.container.Sequential::layer2/core.models.cnn.pruned_resnet_mk.Bottleneck::layer2.3/torch.nn.modules.activation.ReLU::relu # /home/n31v/workspace/Fedot.Industrial/venv/lib/python3.10/site-packages/torch/nn/functional.py:1453:0\n",
      "  %/layer3/layer3.0/conv1/Conv_output_0 : Float(1, 139, 240, 135, strides=[4503600, 32400, 135, 1], requires_grad=1, device=cuda:0) = onnx::Conv[dilations=[1, 1], group=1, kernel_shape=[1, 1], pads=[0, 0, 0, 0], strides=[1, 1], onnx_name=\"/layer3/layer3.0/conv1/Conv\"](%/layer2/layer2.3/relu_2/Relu_output_0, %onnx::Conv_569, %onnx::Conv_570), scope: core.models.cnn.pruned_resnet_mk.PrunedResNet::/torch.nn.modules.container.Sequential::layer3/core.models.cnn.pruned_resnet_mk.Bottleneck::layer3.0/torch.nn.modules.conv.Conv2d::conv1 # /home/n31v/workspace/Fedot.Industrial/venv/lib/python3.10/site-packages/torch/nn/modules/conv.py:458:0\n",
      "  %/layer3/layer3.0/relu/Relu_output_0 : Float(1, 139, 240, 135, strides=[4503600, 32400, 135, 1], requires_grad=1, device=cuda:0) = onnx::Relu[onnx_name=\"/layer3/layer3.0/relu/Relu\"](%/layer3/layer3.0/conv1/Conv_output_0), scope: core.models.cnn.pruned_resnet_mk.PrunedResNet::/torch.nn.modules.container.Sequential::layer3/core.models.cnn.pruned_resnet_mk.Bottleneck::layer3.0/torch.nn.modules.activation.ReLU::relu # /home/n31v/workspace/Fedot.Industrial/venv/lib/python3.10/site-packages/torch/nn/functional.py:1453:0\n",
      "  %/layer3/layer3.0/conv2/Conv_output_0 : Float(1, 131, 120, 68, strides=[1068960, 8160, 68, 1], requires_grad=1, device=cuda:0) = onnx::Conv[dilations=[1, 1], group=1, kernel_shape=[3, 3], pads=[1, 1, 1, 1], strides=[2, 2], onnx_name=\"/layer3/layer3.0/conv2/Conv\"](%/layer3/layer3.0/relu/Relu_output_0, %onnx::Conv_572, %onnx::Conv_573), scope: core.models.cnn.pruned_resnet_mk.PrunedResNet::/torch.nn.modules.container.Sequential::layer3/core.models.cnn.pruned_resnet_mk.Bottleneck::layer3.0/torch.nn.modules.conv.Conv2d::conv2 # /home/n31v/workspace/Fedot.Industrial/venv/lib/python3.10/site-packages/torch/nn/modules/conv.py:458:0\n",
      "  %/layer3/layer3.0/relu_1/Relu_output_0 : Float(1, 131, 120, 68, strides=[1068960, 8160, 68, 1], requires_grad=1, device=cuda:0) = onnx::Relu[onnx_name=\"/layer3/layer3.0/relu_1/Relu\"](%/layer3/layer3.0/conv2/Conv_output_0), scope: core.models.cnn.pruned_resnet_mk.PrunedResNet::/torch.nn.modules.container.Sequential::layer3/core.models.cnn.pruned_resnet_mk.Bottleneck::layer3.0/torch.nn.modules.activation.ReLU::relu # /home/n31v/workspace/Fedot.Industrial/venv/lib/python3.10/site-packages/torch/nn/functional.py:1453:0\n",
      "  %/layer3/layer3.0/conv3/Conv_output_0 : Float(1, 1024, 120, 68, strides=[8355840, 8160, 68, 1], requires_grad=1, device=cuda:0) = onnx::Conv[dilations=[1, 1], group=1, kernel_shape=[1, 1], pads=[0, 0, 0, 0], strides=[1, 1], onnx_name=\"/layer3/layer3.0/conv3/Conv\"](%/layer3/layer3.0/relu_1/Relu_output_0, %onnx::Conv_575, %onnx::Conv_576), scope: core.models.cnn.pruned_resnet_mk.PrunedResNet::/torch.nn.modules.container.Sequential::layer3/core.models.cnn.pruned_resnet_mk.Bottleneck::layer3.0/torch.nn.modules.conv.Conv2d::conv3 # /home/n31v/workspace/Fedot.Industrial/venv/lib/python3.10/site-packages/torch/nn/modules/conv.py:458:0\n",
      "  %/layer3/layer3.0/downsample/downsample.0/Conv_output_0 : Float(1, 1024, 120, 68, strides=[8355840, 8160, 68, 1], requires_grad=1, device=cuda:0) = onnx::Conv[dilations=[1, 1], group=1, kernel_shape=[1, 1], pads=[0, 0, 0, 0], strides=[2, 2], onnx_name=\"/layer3/layer3.0/downsample/downsample.0/Conv\"](%/layer2/layer2.3/relu_2/Relu_output_0, %onnx::Conv_578, %onnx::Conv_579), scope: core.models.cnn.pruned_resnet_mk.PrunedResNet::/torch.nn.modules.container.Sequential::layer3/core.models.cnn.pruned_resnet_mk.Bottleneck::layer3.0/torch.nn.modules.container.Sequential::downsample/torch.nn.modules.conv.Conv2d::downsample.0 # /home/n31v/workspace/Fedot.Industrial/venv/lib/python3.10/site-packages/torch/nn/modules/conv.py:458:0\n",
      "  %/layer3/layer3.0/Add_output_0 : Float(1, 1024, 120, 68, strides=[8355840, 8160, 68, 1], requires_grad=1, device=cuda:0) = onnx::Add[onnx_name=\"/layer3/layer3.0/Add\"](%/layer3/layer3.0/conv3/Conv_output_0, %/layer3/layer3.0/downsample/downsample.0/Conv_output_0), scope: core.models.cnn.pruned_resnet_mk.PrunedResNet::/torch.nn.modules.container.Sequential::layer3/core.models.cnn.pruned_resnet_mk.Bottleneck::layer3.0 # /home/n31v/workspace/Fedot.Industrial/core/models/cnn/pruned_resnet_mk.py:78:0\n",
      "  %/layer3/layer3.0/relu_2/Relu_output_0 : Float(1, 1024, 120, 68, strides=[8355840, 8160, 68, 1], requires_grad=1, device=cuda:0) = onnx::Relu[onnx_name=\"/layer3/layer3.0/relu_2/Relu\"](%/layer3/layer3.0/Add_output_0), scope: core.models.cnn.pruned_resnet_mk.PrunedResNet::/torch.nn.modules.container.Sequential::layer3/core.models.cnn.pruned_resnet_mk.Bottleneck::layer3.0/torch.nn.modules.activation.ReLU::relu # /home/n31v/workspace/Fedot.Industrial/venv/lib/python3.10/site-packages/torch/nn/functional.py:1453:0\n",
      "  %/layer3/layer3.1/conv1/Conv_output_0 : Float(1, 137, 120, 68, strides=[1117920, 8160, 68, 1], requires_grad=1, device=cuda:0) = onnx::Conv[dilations=[1, 1], group=1, kernel_shape=[1, 1], pads=[0, 0, 0, 0], strides=[1, 1], onnx_name=\"/layer3/layer3.1/conv1/Conv\"](%/layer3/layer3.0/relu_2/Relu_output_0, %onnx::Conv_581, %onnx::Conv_582), scope: core.models.cnn.pruned_resnet_mk.PrunedResNet::/torch.nn.modules.container.Sequential::layer3/core.models.cnn.pruned_resnet_mk.Bottleneck::layer3.1/torch.nn.modules.conv.Conv2d::conv1 # /home/n31v/workspace/Fedot.Industrial/venv/lib/python3.10/site-packages/torch/nn/modules/conv.py:458:0\n",
      "  %/layer3/layer3.1/relu/Relu_output_0 : Float(1, 137, 120, 68, strides=[1117920, 8160, 68, 1], requires_grad=1, device=cuda:0) = onnx::Relu[onnx_name=\"/layer3/layer3.1/relu/Relu\"](%/layer3/layer3.1/conv1/Conv_output_0), scope: core.models.cnn.pruned_resnet_mk.PrunedResNet::/torch.nn.modules.container.Sequential::layer3/core.models.cnn.pruned_resnet_mk.Bottleneck::layer3.1/torch.nn.modules.activation.ReLU::relu # /home/n31v/workspace/Fedot.Industrial/venv/lib/python3.10/site-packages/torch/nn/functional.py:1453:0\n",
      "  %/layer3/layer3.1/conv2/Conv_output_0 : Float(1, 138, 120, 68, strides=[1126080, 8160, 68, 1], requires_grad=1, device=cuda:0) = onnx::Conv[dilations=[1, 1], group=1, kernel_shape=[3, 3], pads=[1, 1, 1, 1], strides=[1, 1], onnx_name=\"/layer3/layer3.1/conv2/Conv\"](%/layer3/layer3.1/relu/Relu_output_0, %onnx::Conv_584, %onnx::Conv_585), scope: core.models.cnn.pruned_resnet_mk.PrunedResNet::/torch.nn.modules.container.Sequential::layer3/core.models.cnn.pruned_resnet_mk.Bottleneck::layer3.1/torch.nn.modules.conv.Conv2d::conv2 # /home/n31v/workspace/Fedot.Industrial/venv/lib/python3.10/site-packages/torch/nn/modules/conv.py:458:0\n",
      "  %/layer3/layer3.1/relu_1/Relu_output_0 : Float(1, 138, 120, 68, strides=[1126080, 8160, 68, 1], requires_grad=1, device=cuda:0) = onnx::Relu[onnx_name=\"/layer3/layer3.1/relu_1/Relu\"](%/layer3/layer3.1/conv2/Conv_output_0), scope: core.models.cnn.pruned_resnet_mk.PrunedResNet::/torch.nn.modules.container.Sequential::layer3/core.models.cnn.pruned_resnet_mk.Bottleneck::layer3.1/torch.nn.modules.activation.ReLU::relu # /home/n31v/workspace/Fedot.Industrial/venv/lib/python3.10/site-packages/torch/nn/functional.py:1453:0\n",
      "  %/layer3/layer3.1/conv3/Conv_output_0 : Float(1, 1024, 120, 68, strides=[8355840, 8160, 68, 1], requires_grad=1, device=cuda:0) = onnx::Conv[dilations=[1, 1], group=1, kernel_shape=[1, 1], pads=[0, 0, 0, 0], strides=[1, 1], onnx_name=\"/layer3/layer3.1/conv3/Conv\"](%/layer3/layer3.1/relu_1/Relu_output_0, %onnx::Conv_587, %onnx::Conv_588), scope: core.models.cnn.pruned_resnet_mk.PrunedResNet::/torch.nn.modules.container.Sequential::layer3/core.models.cnn.pruned_resnet_mk.Bottleneck::layer3.1/torch.nn.modules.conv.Conv2d::conv3 # /home/n31v/workspace/Fedot.Industrial/venv/lib/python3.10/site-packages/torch/nn/modules/conv.py:458:0\n",
      "  %/layer3/layer3.1/Add_output_0 : Float(1, 1024, 120, 68, strides=[8355840, 8160, 68, 1], requires_grad=1, device=cuda:0) = onnx::Add[onnx_name=\"/layer3/layer3.1/Add\"](%/layer3/layer3.1/conv3/Conv_output_0, %/layer3/layer3.0/relu_2/Relu_output_0), scope: core.models.cnn.pruned_resnet_mk.PrunedResNet::/torch.nn.modules.container.Sequential::layer3/core.models.cnn.pruned_resnet_mk.Bottleneck::layer3.1 # /home/n31v/workspace/Fedot.Industrial/core/models/cnn/pruned_resnet_mk.py:78:0\n",
      "  %/layer3/layer3.1/relu_2/Relu_output_0 : Float(1, 1024, 120, 68, strides=[8355840, 8160, 68, 1], requires_grad=1, device=cuda:0) = onnx::Relu[onnx_name=\"/layer3/layer3.1/relu_2/Relu\"](%/layer3/layer3.1/Add_output_0), scope: core.models.cnn.pruned_resnet_mk.PrunedResNet::/torch.nn.modules.container.Sequential::layer3/core.models.cnn.pruned_resnet_mk.Bottleneck::layer3.1/torch.nn.modules.activation.ReLU::relu # /home/n31v/workspace/Fedot.Industrial/venv/lib/python3.10/site-packages/torch/nn/functional.py:1453:0\n",
      "  %/layer3/layer3.2/conv1/Conv_output_0 : Float(1, 163, 120, 68, strides=[1330080, 8160, 68, 1], requires_grad=1, device=cuda:0) = onnx::Conv[dilations=[1, 1], group=1, kernel_shape=[1, 1], pads=[0, 0, 0, 0], strides=[1, 1], onnx_name=\"/layer3/layer3.2/conv1/Conv\"](%/layer3/layer3.1/relu_2/Relu_output_0, %onnx::Conv_590, %onnx::Conv_591), scope: core.models.cnn.pruned_resnet_mk.PrunedResNet::/torch.nn.modules.container.Sequential::layer3/core.models.cnn.pruned_resnet_mk.Bottleneck::layer3.2/torch.nn.modules.conv.Conv2d::conv1 # /home/n31v/workspace/Fedot.Industrial/venv/lib/python3.10/site-packages/torch/nn/modules/conv.py:458:0\n",
      "  %/layer3/layer3.2/relu/Relu_output_0 : Float(1, 163, 120, 68, strides=[1330080, 8160, 68, 1], requires_grad=1, device=cuda:0) = onnx::Relu[onnx_name=\"/layer3/layer3.2/relu/Relu\"](%/layer3/layer3.2/conv1/Conv_output_0), scope: core.models.cnn.pruned_resnet_mk.PrunedResNet::/torch.nn.modules.container.Sequential::layer3/core.models.cnn.pruned_resnet_mk.Bottleneck::layer3.2/torch.nn.modules.activation.ReLU::relu # /home/n31v/workspace/Fedot.Industrial/venv/lib/python3.10/site-packages/torch/nn/functional.py:1453:0\n",
      "  %/layer3/layer3.2/conv2/Conv_output_0 : Float(1, 136, 120, 68, strides=[1109760, 8160, 68, 1], requires_grad=1, device=cuda:0) = onnx::Conv[dilations=[1, 1], group=1, kernel_shape=[3, 3], pads=[1, 1, 1, 1], strides=[1, 1], onnx_name=\"/layer3/layer3.2/conv2/Conv\"](%/layer3/layer3.2/relu/Relu_output_0, %onnx::Conv_593, %onnx::Conv_594), scope: core.models.cnn.pruned_resnet_mk.PrunedResNet::/torch.nn.modules.container.Sequential::layer3/core.models.cnn.pruned_resnet_mk.Bottleneck::layer3.2/torch.nn.modules.conv.Conv2d::conv2 # /home/n31v/workspace/Fedot.Industrial/venv/lib/python3.10/site-packages/torch/nn/modules/conv.py:458:0\n",
      "  %/layer3/layer3.2/relu_1/Relu_output_0 : Float(1, 136, 120, 68, strides=[1109760, 8160, 68, 1], requires_grad=1, device=cuda:0) = onnx::Relu[onnx_name=\"/layer3/layer3.2/relu_1/Relu\"](%/layer3/layer3.2/conv2/Conv_output_0), scope: core.models.cnn.pruned_resnet_mk.PrunedResNet::/torch.nn.modules.container.Sequential::layer3/core.models.cnn.pruned_resnet_mk.Bottleneck::layer3.2/torch.nn.modules.activation.ReLU::relu # /home/n31v/workspace/Fedot.Industrial/venv/lib/python3.10/site-packages/torch/nn/functional.py:1453:0\n",
      "  %/layer3/layer3.2/conv3/Conv_output_0 : Float(1, 1024, 120, 68, strides=[8355840, 8160, 68, 1], requires_grad=1, device=cuda:0) = onnx::Conv[dilations=[1, 1], group=1, kernel_shape=[1, 1], pads=[0, 0, 0, 0], strides=[1, 1], onnx_name=\"/layer3/layer3.2/conv3/Conv\"](%/layer3/layer3.2/relu_1/Relu_output_0, %onnx::Conv_596, %onnx::Conv_597), scope: core.models.cnn.pruned_resnet_mk.PrunedResNet::/torch.nn.modules.container.Sequential::layer3/core.models.cnn.pruned_resnet_mk.Bottleneck::layer3.2/torch.nn.modules.conv.Conv2d::conv3 # /home/n31v/workspace/Fedot.Industrial/venv/lib/python3.10/site-packages/torch/nn/modules/conv.py:458:0\n",
      "  %/layer3/layer3.2/Add_output_0 : Float(1, 1024, 120, 68, strides=[8355840, 8160, 68, 1], requires_grad=1, device=cuda:0) = onnx::Add[onnx_name=\"/layer3/layer3.2/Add\"](%/layer3/layer3.2/conv3/Conv_output_0, %/layer3/layer3.1/relu_2/Relu_output_0), scope: core.models.cnn.pruned_resnet_mk.PrunedResNet::/torch.nn.modules.container.Sequential::layer3/core.models.cnn.pruned_resnet_mk.Bottleneck::layer3.2 # /home/n31v/workspace/Fedot.Industrial/core/models/cnn/pruned_resnet_mk.py:78:0\n",
      "  %/layer3/layer3.2/relu_2/Relu_output_0 : Float(1, 1024, 120, 68, strides=[8355840, 8160, 68, 1], requires_grad=1, device=cuda:0) = onnx::Relu[onnx_name=\"/layer3/layer3.2/relu_2/Relu\"](%/layer3/layer3.2/Add_output_0), scope: core.models.cnn.pruned_resnet_mk.PrunedResNet::/torch.nn.modules.container.Sequential::layer3/core.models.cnn.pruned_resnet_mk.Bottleneck::layer3.2/torch.nn.modules.activation.ReLU::relu # /home/n31v/workspace/Fedot.Industrial/venv/lib/python3.10/site-packages/torch/nn/functional.py:1453:0\n",
      "  %/layer3/layer3.3/conv1/Conv_output_0 : Float(1, 151, 120, 68, strides=[1232160, 8160, 68, 1], requires_grad=1, device=cuda:0) = onnx::Conv[dilations=[1, 1], group=1, kernel_shape=[1, 1], pads=[0, 0, 0, 0], strides=[1, 1], onnx_name=\"/layer3/layer3.3/conv1/Conv\"](%/layer3/layer3.2/relu_2/Relu_output_0, %onnx::Conv_599, %onnx::Conv_600), scope: core.models.cnn.pruned_resnet_mk.PrunedResNet::/torch.nn.modules.container.Sequential::layer3/core.models.cnn.pruned_resnet_mk.Bottleneck::layer3.3/torch.nn.modules.conv.Conv2d::conv1 # /home/n31v/workspace/Fedot.Industrial/venv/lib/python3.10/site-packages/torch/nn/modules/conv.py:458:0\n",
      "  %/layer3/layer3.3/relu/Relu_output_0 : Float(1, 151, 120, 68, strides=[1232160, 8160, 68, 1], requires_grad=1, device=cuda:0) = onnx::Relu[onnx_name=\"/layer3/layer3.3/relu/Relu\"](%/layer3/layer3.3/conv1/Conv_output_0), scope: core.models.cnn.pruned_resnet_mk.PrunedResNet::/torch.nn.modules.container.Sequential::layer3/core.models.cnn.pruned_resnet_mk.Bottleneck::layer3.3/torch.nn.modules.activation.ReLU::relu # /home/n31v/workspace/Fedot.Industrial/venv/lib/python3.10/site-packages/torch/nn/functional.py:1453:0\n",
      "  %/layer3/layer3.3/conv2/Conv_output_0 : Float(1, 140, 120, 68, strides=[1142400, 8160, 68, 1], requires_grad=1, device=cuda:0) = onnx::Conv[dilations=[1, 1], group=1, kernel_shape=[3, 3], pads=[1, 1, 1, 1], strides=[1, 1], onnx_name=\"/layer3/layer3.3/conv2/Conv\"](%/layer3/layer3.3/relu/Relu_output_0, %onnx::Conv_602, %onnx::Conv_603), scope: core.models.cnn.pruned_resnet_mk.PrunedResNet::/torch.nn.modules.container.Sequential::layer3/core.models.cnn.pruned_resnet_mk.Bottleneck::layer3.3/torch.nn.modules.conv.Conv2d::conv2 # /home/n31v/workspace/Fedot.Industrial/venv/lib/python3.10/site-packages/torch/nn/modules/conv.py:458:0\n",
      "  %/layer3/layer3.3/relu_1/Relu_output_0 : Float(1, 140, 120, 68, strides=[1142400, 8160, 68, 1], requires_grad=1, device=cuda:0) = onnx::Relu[onnx_name=\"/layer3/layer3.3/relu_1/Relu\"](%/layer3/layer3.3/conv2/Conv_output_0), scope: core.models.cnn.pruned_resnet_mk.PrunedResNet::/torch.nn.modules.container.Sequential::layer3/core.models.cnn.pruned_resnet_mk.Bottleneck::layer3.3/torch.nn.modules.activation.ReLU::relu # /home/n31v/workspace/Fedot.Industrial/venv/lib/python3.10/site-packages/torch/nn/functional.py:1453:0\n",
      "  %/layer3/layer3.3/conv3/Conv_output_0 : Float(1, 1024, 120, 68, strides=[8355840, 8160, 68, 1], requires_grad=1, device=cuda:0) = onnx::Conv[dilations=[1, 1], group=1, kernel_shape=[1, 1], pads=[0, 0, 0, 0], strides=[1, 1], onnx_name=\"/layer3/layer3.3/conv3/Conv\"](%/layer3/layer3.3/relu_1/Relu_output_0, %onnx::Conv_605, %onnx::Conv_606), scope: core.models.cnn.pruned_resnet_mk.PrunedResNet::/torch.nn.modules.container.Sequential::layer3/core.models.cnn.pruned_resnet_mk.Bottleneck::layer3.3/torch.nn.modules.conv.Conv2d::conv3 # /home/n31v/workspace/Fedot.Industrial/venv/lib/python3.10/site-packages/torch/nn/modules/conv.py:458:0\n",
      "  %/layer3/layer3.3/Add_output_0 : Float(1, 1024, 120, 68, strides=[8355840, 8160, 68, 1], requires_grad=1, device=cuda:0) = onnx::Add[onnx_name=\"/layer3/layer3.3/Add\"](%/layer3/layer3.3/conv3/Conv_output_0, %/layer3/layer3.2/relu_2/Relu_output_0), scope: core.models.cnn.pruned_resnet_mk.PrunedResNet::/torch.nn.modules.container.Sequential::layer3/core.models.cnn.pruned_resnet_mk.Bottleneck::layer3.3 # /home/n31v/workspace/Fedot.Industrial/core/models/cnn/pruned_resnet_mk.py:78:0\n",
      "  %/layer3/layer3.3/relu_2/Relu_output_0 : Float(1, 1024, 120, 68, strides=[8355840, 8160, 68, 1], requires_grad=1, device=cuda:0) = onnx::Relu[onnx_name=\"/layer3/layer3.3/relu_2/Relu\"](%/layer3/layer3.3/Add_output_0), scope: core.models.cnn.pruned_resnet_mk.PrunedResNet::/torch.nn.modules.container.Sequential::layer3/core.models.cnn.pruned_resnet_mk.Bottleneck::layer3.3/torch.nn.modules.activation.ReLU::relu # /home/n31v/workspace/Fedot.Industrial/venv/lib/python3.10/site-packages/torch/nn/functional.py:1453:0\n",
      "  %/layer3/layer3.4/conv1/Conv_output_0 : Float(1, 131, 120, 68, strides=[1068960, 8160, 68, 1], requires_grad=1, device=cuda:0) = onnx::Conv[dilations=[1, 1], group=1, kernel_shape=[1, 1], pads=[0, 0, 0, 0], strides=[1, 1], onnx_name=\"/layer3/layer3.4/conv1/Conv\"](%/layer3/layer3.3/relu_2/Relu_output_0, %onnx::Conv_608, %onnx::Conv_609), scope: core.models.cnn.pruned_resnet_mk.PrunedResNet::/torch.nn.modules.container.Sequential::layer3/core.models.cnn.pruned_resnet_mk.Bottleneck::layer3.4/torch.nn.modules.conv.Conv2d::conv1 # /home/n31v/workspace/Fedot.Industrial/venv/lib/python3.10/site-packages/torch/nn/modules/conv.py:458:0\n",
      "  %/layer3/layer3.4/relu/Relu_output_0 : Float(1, 131, 120, 68, strides=[1068960, 8160, 68, 1], requires_grad=1, device=cuda:0) = onnx::Relu[onnx_name=\"/layer3/layer3.4/relu/Relu\"](%/layer3/layer3.4/conv1/Conv_output_0), scope: core.models.cnn.pruned_resnet_mk.PrunedResNet::/torch.nn.modules.container.Sequential::layer3/core.models.cnn.pruned_resnet_mk.Bottleneck::layer3.4/torch.nn.modules.activation.ReLU::relu # /home/n31v/workspace/Fedot.Industrial/venv/lib/python3.10/site-packages/torch/nn/functional.py:1453:0\n",
      "  %/layer3/layer3.4/conv2/Conv_output_0 : Float(1, 107, 120, 68, strides=[873120, 8160, 68, 1], requires_grad=1, device=cuda:0) = onnx::Conv[dilations=[1, 1], group=1, kernel_shape=[3, 3], pads=[1, 1, 1, 1], strides=[1, 1], onnx_name=\"/layer3/layer3.4/conv2/Conv\"](%/layer3/layer3.4/relu/Relu_output_0, %onnx::Conv_611, %onnx::Conv_612), scope: core.models.cnn.pruned_resnet_mk.PrunedResNet::/torch.nn.modules.container.Sequential::layer3/core.models.cnn.pruned_resnet_mk.Bottleneck::layer3.4/torch.nn.modules.conv.Conv2d::conv2 # /home/n31v/workspace/Fedot.Industrial/venv/lib/python3.10/site-packages/torch/nn/modules/conv.py:458:0\n",
      "  %/layer3/layer3.4/relu_1/Relu_output_0 : Float(1, 107, 120, 68, strides=[873120, 8160, 68, 1], requires_grad=1, device=cuda:0) = onnx::Relu[onnx_name=\"/layer3/layer3.4/relu_1/Relu\"](%/layer3/layer3.4/conv2/Conv_output_0), scope: core.models.cnn.pruned_resnet_mk.PrunedResNet::/torch.nn.modules.container.Sequential::layer3/core.models.cnn.pruned_resnet_mk.Bottleneck::layer3.4/torch.nn.modules.activation.ReLU::relu # /home/n31v/workspace/Fedot.Industrial/venv/lib/python3.10/site-packages/torch/nn/functional.py:1453:0\n",
      "  %/layer3/layer3.4/conv3/Conv_output_0 : Float(1, 1024, 120, 68, strides=[8355840, 8160, 68, 1], requires_grad=1, device=cuda:0) = onnx::Conv[dilations=[1, 1], group=1, kernel_shape=[1, 1], pads=[0, 0, 0, 0], strides=[1, 1], onnx_name=\"/layer3/layer3.4/conv3/Conv\"](%/layer3/layer3.4/relu_1/Relu_output_0, %onnx::Conv_614, %onnx::Conv_615), scope: core.models.cnn.pruned_resnet_mk.PrunedResNet::/torch.nn.modules.container.Sequential::layer3/core.models.cnn.pruned_resnet_mk.Bottleneck::layer3.4/torch.nn.modules.conv.Conv2d::conv3 # /home/n31v/workspace/Fedot.Industrial/venv/lib/python3.10/site-packages/torch/nn/modules/conv.py:458:0\n",
      "  %/layer3/layer3.4/Add_output_0 : Float(1, 1024, 120, 68, strides=[8355840, 8160, 68, 1], requires_grad=1, device=cuda:0) = onnx::Add[onnx_name=\"/layer3/layer3.4/Add\"](%/layer3/layer3.4/conv3/Conv_output_0, %/layer3/layer3.3/relu_2/Relu_output_0), scope: core.models.cnn.pruned_resnet_mk.PrunedResNet::/torch.nn.modules.container.Sequential::layer3/core.models.cnn.pruned_resnet_mk.Bottleneck::layer3.4 # /home/n31v/workspace/Fedot.Industrial/core/models/cnn/pruned_resnet_mk.py:78:0\n",
      "  %/layer3/layer3.4/relu_2/Relu_output_0 : Float(1, 1024, 120, 68, strides=[8355840, 8160, 68, 1], requires_grad=1, device=cuda:0) = onnx::Relu[onnx_name=\"/layer3/layer3.4/relu_2/Relu\"](%/layer3/layer3.4/Add_output_0), scope: core.models.cnn.pruned_resnet_mk.PrunedResNet::/torch.nn.modules.container.Sequential::layer3/core.models.cnn.pruned_resnet_mk.Bottleneck::layer3.4/torch.nn.modules.activation.ReLU::relu # /home/n31v/workspace/Fedot.Industrial/venv/lib/python3.10/site-packages/torch/nn/functional.py:1453:0\n",
      "  %/layer3/layer3.5/conv1/Conv_output_0 : Float(1, 146, 120, 68, strides=[1191360, 8160, 68, 1], requires_grad=1, device=cuda:0) = onnx::Conv[dilations=[1, 1], group=1, kernel_shape=[1, 1], pads=[0, 0, 0, 0], strides=[1, 1], onnx_name=\"/layer3/layer3.5/conv1/Conv\"](%/layer3/layer3.4/relu_2/Relu_output_0, %onnx::Conv_617, %onnx::Conv_618), scope: core.models.cnn.pruned_resnet_mk.PrunedResNet::/torch.nn.modules.container.Sequential::layer3/core.models.cnn.pruned_resnet_mk.Bottleneck::layer3.5/torch.nn.modules.conv.Conv2d::conv1 # /home/n31v/workspace/Fedot.Industrial/venv/lib/python3.10/site-packages/torch/nn/modules/conv.py:458:0\n",
      "  %/layer3/layer3.5/relu/Relu_output_0 : Float(1, 146, 120, 68, strides=[1191360, 8160, 68, 1], requires_grad=1, device=cuda:0) = onnx::Relu[onnx_name=\"/layer3/layer3.5/relu/Relu\"](%/layer3/layer3.5/conv1/Conv_output_0), scope: core.models.cnn.pruned_resnet_mk.PrunedResNet::/torch.nn.modules.container.Sequential::layer3/core.models.cnn.pruned_resnet_mk.Bottleneck::layer3.5/torch.nn.modules.activation.ReLU::relu # /home/n31v/workspace/Fedot.Industrial/venv/lib/python3.10/site-packages/torch/nn/functional.py:1453:0\n",
      "  %/layer3/layer3.5/conv2/Conv_output_0 : Float(1, 81, 120, 68, strides=[660960, 8160, 68, 1], requires_grad=1, device=cuda:0) = onnx::Conv[dilations=[1, 1], group=1, kernel_shape=[3, 3], pads=[1, 1, 1, 1], strides=[1, 1], onnx_name=\"/layer3/layer3.5/conv2/Conv\"](%/layer3/layer3.5/relu/Relu_output_0, %onnx::Conv_620, %onnx::Conv_621), scope: core.models.cnn.pruned_resnet_mk.PrunedResNet::/torch.nn.modules.container.Sequential::layer3/core.models.cnn.pruned_resnet_mk.Bottleneck::layer3.5/torch.nn.modules.conv.Conv2d::conv2 # /home/n31v/workspace/Fedot.Industrial/venv/lib/python3.10/site-packages/torch/nn/modules/conv.py:458:0\n",
      "  %/layer3/layer3.5/relu_1/Relu_output_0 : Float(1, 81, 120, 68, strides=[660960, 8160, 68, 1], requires_grad=1, device=cuda:0) = onnx::Relu[onnx_name=\"/layer3/layer3.5/relu_1/Relu\"](%/layer3/layer3.5/conv2/Conv_output_0), scope: core.models.cnn.pruned_resnet_mk.PrunedResNet::/torch.nn.modules.container.Sequential::layer3/core.models.cnn.pruned_resnet_mk.Bottleneck::layer3.5/torch.nn.modules.activation.ReLU::relu # /home/n31v/workspace/Fedot.Industrial/venv/lib/python3.10/site-packages/torch/nn/functional.py:1453:0\n",
      "  %/layer3/layer3.5/conv3/Conv_output_0 : Float(1, 1024, 120, 68, strides=[8355840, 8160, 68, 1], requires_grad=1, device=cuda:0) = onnx::Conv[dilations=[1, 1], group=1, kernel_shape=[1, 1], pads=[0, 0, 0, 0], strides=[1, 1], onnx_name=\"/layer3/layer3.5/conv3/Conv\"](%/layer3/layer3.5/relu_1/Relu_output_0, %onnx::Conv_623, %onnx::Conv_624), scope: core.models.cnn.pruned_resnet_mk.PrunedResNet::/torch.nn.modules.container.Sequential::layer3/core.models.cnn.pruned_resnet_mk.Bottleneck::layer3.5/torch.nn.modules.conv.Conv2d::conv3 # /home/n31v/workspace/Fedot.Industrial/venv/lib/python3.10/site-packages/torch/nn/modules/conv.py:458:0\n",
      "  %/layer3/layer3.5/Add_output_0 : Float(1, 1024, 120, 68, strides=[8355840, 8160, 68, 1], requires_grad=1, device=cuda:0) = onnx::Add[onnx_name=\"/layer3/layer3.5/Add\"](%/layer3/layer3.5/conv3/Conv_output_0, %/layer3/layer3.4/relu_2/Relu_output_0), scope: core.models.cnn.pruned_resnet_mk.PrunedResNet::/torch.nn.modules.container.Sequential::layer3/core.models.cnn.pruned_resnet_mk.Bottleneck::layer3.5 # /home/n31v/workspace/Fedot.Industrial/core/models/cnn/pruned_resnet_mk.py:78:0\n",
      "  %/layer3/layer3.5/relu_2/Relu_output_0 : Float(1, 1024, 120, 68, strides=[8355840, 8160, 68, 1], requires_grad=1, device=cuda:0) = onnx::Relu[onnx_name=\"/layer3/layer3.5/relu_2/Relu\"](%/layer3/layer3.5/Add_output_0), scope: core.models.cnn.pruned_resnet_mk.PrunedResNet::/torch.nn.modules.container.Sequential::layer3/core.models.cnn.pruned_resnet_mk.Bottleneck::layer3.5/torch.nn.modules.activation.ReLU::relu # /home/n31v/workspace/Fedot.Industrial/venv/lib/python3.10/site-packages/torch/nn/functional.py:1453:0\n",
      "  %/layer4/layer4.0/conv1/Conv_output_0 : Float(1, 321, 120, 68, strides=[2619360, 8160, 68, 1], requires_grad=1, device=cuda:0) = onnx::Conv[dilations=[1, 1], group=1, kernel_shape=[1, 1], pads=[0, 0, 0, 0], strides=[1, 1], onnx_name=\"/layer4/layer4.0/conv1/Conv\"](%/layer3/layer3.5/relu_2/Relu_output_0, %onnx::Conv_626, %onnx::Conv_627), scope: core.models.cnn.pruned_resnet_mk.PrunedResNet::/torch.nn.modules.container."
     ]
    },
    {
     "ename": "KeyboardInterrupt",
     "evalue": "",
     "output_type": "error",
     "traceback": [
      "\u001B[0;31m---------------------------------------------------------------------------\u001B[0m",
      "\u001B[0;31mKeyboardInterrupt\u001B[0m                         Traceback (most recent call last)",
      "File \u001B[0;32m~/workspace/Fedot.Industrial/venv/lib/python3.10/site-packages/torch/onnx/utils.py:120\u001B[0m, in \u001B[0;36mselect_model_mode_for_export\u001B[0;34m(model, mode)\u001B[0m\n\u001B[1;32m    119\u001B[0m \u001B[38;5;28;01mtry\u001B[39;00m:\n\u001B[0;32m--> 120\u001B[0m     \u001B[38;5;28;01myield\u001B[39;00m\n\u001B[1;32m    121\u001B[0m \u001B[38;5;28;01mfinally\u001B[39;00m:\n",
      "File \u001B[0;32m~/workspace/Fedot.Industrial/venv/lib/python3.10/site-packages/torch/onnx/utils.py:183\u001B[0m, in \u001B[0;36mexporter_context\u001B[0;34m(model, mode, verbose)\u001B[0m\n\u001B[1;32m    176\u001B[0m \u001B[38;5;28;01mwith\u001B[39;00m select_model_mode_for_export(\n\u001B[1;32m    177\u001B[0m     model, mode\n\u001B[1;32m    178\u001B[0m ) \u001B[38;5;28;01mas\u001B[39;00m mode_ctx, disable_apex_o2_state_dict_hook(\n\u001B[0;32m   (...)\u001B[0m\n\u001B[1;32m    181\u001B[0m     verbose\n\u001B[1;32m    182\u001B[0m ) \u001B[38;5;28;01mas\u001B[39;00m log_ctx, diagnostics\u001B[38;5;241m.\u001B[39mcreate_export_diagnostic_context() \u001B[38;5;28;01mas\u001B[39;00m diagnostic_ctx:\n\u001B[0;32m--> 183\u001B[0m     \u001B[38;5;28;01myield\u001B[39;00m (mode_ctx, apex_ctx, log_ctx, diagnostic_ctx)\n",
      "File \u001B[0;32m~/workspace/Fedot.Industrial/venv/lib/python3.10/site-packages/torch/onnx/utils.py:1601\u001B[0m, in \u001B[0;36m_export\u001B[0;34m(model, args, f, export_params, verbose, training, input_names, output_names, operator_export_type, export_type, opset_version, do_constant_folding, dynamic_axes, keep_initializers_as_inputs, fixed_batch_size, custom_opsets, add_node_names, onnx_shape_inference, export_modules_as_functions)\u001B[0m\n\u001B[1;32m   1600\u001B[0m \u001B[38;5;28;01mif\u001B[39;00m verbose:\n\u001B[0;32m-> 1601\u001B[0m     \u001B[43mtorch\u001B[49m\u001B[38;5;241;43m.\u001B[39;49m\u001B[43monnx\u001B[49m\u001B[38;5;241;43m.\u001B[39;49m\u001B[43mlog\u001B[49m\u001B[43m(\u001B[49m\u001B[38;5;124;43m\"\u001B[39;49m\u001B[38;5;124;43mExported graph: \u001B[39;49m\u001B[38;5;124;43m\"\u001B[39;49m\u001B[43m,\u001B[49m\u001B[43m \u001B[49m\u001B[43mgraph\u001B[49m\u001B[43m)\u001B[49m\n\u001B[1;32m   1602\u001B[0m \u001B[38;5;28;01mif\u001B[39;00m export_type \u001B[38;5;241m==\u001B[39m _exporter_states\u001B[38;5;241m.\u001B[39mExportTypes\u001B[38;5;241m.\u001B[39mPROTOBUF_FILE:\n",
      "\u001B[0;31mKeyboardInterrupt\u001B[0m: ",
      "\nDuring handling of the above exception, another exception occurred:\n",
      "\u001B[0;31mKeyboardInterrupt\u001B[0m                         Traceback (most recent call last)",
      "Cell \u001B[0;32mIn [9], line 7\u001B[0m\n\u001B[1;32m      5\u001B[0m \u001B[38;5;28mprint\u001B[39m(experimenter\u001B[38;5;241m.\u001B[39msize_of_model())\n\u001B[1;32m      6\u001B[0m \u001B[38;5;28mprint\u001B[39m(flop(profile(experimenter\u001B[38;5;241m.\u001B[39mmodel, \u001B[38;5;124m'\u001B[39m\u001B[38;5;124msfp_mk\u001B[39m\u001B[38;5;124m'\u001B[39m)))\n\u001B[0;32m----> 7\u001B[0m convert_ONNX(experimenter\u001B[38;5;241m.\u001B[39mmodel, \u001B[38;5;124m'\u001B[39m\u001B[38;5;124msfp\u001B[39m\u001B[38;5;124m'\u001B[39m)\n",
      "File \u001B[0;32m~/workspace/Fedot.Industrial/cases/object_recognition/cv_stand/utils.py:46\u001B[0m, in \u001B[0;36mconvert_ONNX\u001B[0;34m(model, name, operator_export_type)\u001B[0m\n\u001B[1;32m     44\u001B[0m model\u001B[38;5;241m.\u001B[39meval()\n\u001B[1;32m     45\u001B[0m dummy_input \u001B[38;5;241m=\u001B[39m torch\u001B[38;5;241m.\u001B[39mrandn(\u001B[38;5;241m1\u001B[39m, \u001B[38;5;241m3\u001B[39m, \u001B[38;5;241m1920\u001B[39m, \u001B[38;5;241m1080\u001B[39m, requires_grad\u001B[38;5;241m=\u001B[39m\u001B[38;5;28;01mTrue\u001B[39;00m, device\u001B[38;5;241m=\u001B[39m\u001B[38;5;124m'\u001B[39m\u001B[38;5;124mcuda\u001B[39m\u001B[38;5;124m'\u001B[39m)\n\u001B[0;32m---> 46\u001B[0m \u001B[43mtorch\u001B[49m\u001B[38;5;241;43m.\u001B[39;49m\u001B[43monnx\u001B[49m\u001B[38;5;241;43m.\u001B[39;49m\u001B[43mexport\u001B[49m\u001B[43m(\u001B[49m\n\u001B[1;32m     47\u001B[0m \u001B[43m    \u001B[49m\u001B[43mmodel\u001B[49m\u001B[38;5;241;43m=\u001B[39;49m\u001B[43mmodel\u001B[49m\u001B[43m,\u001B[49m\n\u001B[1;32m     48\u001B[0m \u001B[43m    \u001B[49m\u001B[43margs\u001B[49m\u001B[38;5;241;43m=\u001B[39;49m\u001B[43mdummy_input\u001B[49m\u001B[43m,\u001B[49m\n\u001B[1;32m     49\u001B[0m \u001B[43m    \u001B[49m\u001B[43mf\u001B[49m\u001B[38;5;241;43m=\u001B[39;49m\u001B[38;5;124;43mf\u001B[39;49m\u001B[38;5;124;43m'\u001B[39;49m\u001B[38;5;132;43;01m{\u001B[39;49;00m\u001B[43mname\u001B[49m\u001B[38;5;132;43;01m}\u001B[39;49;00m\u001B[38;5;124;43m.onnx\u001B[39;49m\u001B[38;5;124;43m'\u001B[39;49m\u001B[43m,\u001B[49m\n\u001B[1;32m     50\u001B[0m \u001B[43m    \u001B[49m\u001B[43mverbose\u001B[49m\u001B[38;5;241;43m=\u001B[39;49m\u001B[38;5;28;43;01mTrue\u001B[39;49;00m\u001B[43m,\u001B[49m\n\u001B[1;32m     51\u001B[0m \u001B[43m    \u001B[49m\u001B[43moperator_export_type\u001B[49m\u001B[38;5;241;43m=\u001B[39;49m\u001B[43moperator_export_type\u001B[49m\u001B[43m,\u001B[49m\n\u001B[1;32m     52\u001B[0m \u001B[43m    \u001B[49m\u001B[43mopset_version\u001B[49m\u001B[38;5;241;43m=\u001B[39;49m\u001B[38;5;241;43m12\u001B[39;49m\n\u001B[1;32m     53\u001B[0m \u001B[43m\u001B[49m\u001B[43m)\u001B[49m\n",
      "File \u001B[0;32m~/workspace/Fedot.Industrial/venv/lib/python3.10/site-packages/torch/onnx/utils.py:504\u001B[0m, in \u001B[0;36mexport\u001B[0;34m(model, args, f, export_params, verbose, training, input_names, output_names, operator_export_type, opset_version, do_constant_folding, dynamic_axes, keep_initializers_as_inputs, custom_opsets, export_modules_as_functions)\u001B[0m\n\u001B[1;32m    186\u001B[0m \u001B[38;5;129m@_beartype\u001B[39m\u001B[38;5;241m.\u001B[39mbeartype\n\u001B[1;32m    187\u001B[0m \u001B[38;5;28;01mdef\u001B[39;00m \u001B[38;5;21mexport\u001B[39m(\n\u001B[1;32m    188\u001B[0m     model: Union[torch\u001B[38;5;241m.\u001B[39mnn\u001B[38;5;241m.\u001B[39mModule, torch\u001B[38;5;241m.\u001B[39mjit\u001B[38;5;241m.\u001B[39mScriptModule, torch\u001B[38;5;241m.\u001B[39mjit\u001B[38;5;241m.\u001B[39mScriptFunction],\n\u001B[0;32m   (...)\u001B[0m\n\u001B[1;32m    204\u001B[0m     export_modules_as_functions: Union[\u001B[38;5;28mbool\u001B[39m, Collection[Type[torch\u001B[38;5;241m.\u001B[39mnn\u001B[38;5;241m.\u001B[39mModule]]] \u001B[38;5;241m=\u001B[39m \u001B[38;5;28;01mFalse\u001B[39;00m,\n\u001B[1;32m    205\u001B[0m ) \u001B[38;5;241m-\u001B[39m\u001B[38;5;241m>\u001B[39m \u001B[38;5;28;01mNone\u001B[39;00m:\n\u001B[1;32m    206\u001B[0m     \u001B[38;5;124mr\u001B[39m\u001B[38;5;124;03m\"\"\"Exports a model into ONNX format.\u001B[39;00m\n\u001B[1;32m    207\u001B[0m \n\u001B[1;32m    208\u001B[0m \u001B[38;5;124;03m    If ``model`` is not a :class:`torch.jit.ScriptModule` nor a\u001B[39;00m\n\u001B[0;32m   (...)\u001B[0m\n\u001B[1;32m    501\u001B[0m \u001B[38;5;124;03m            All errors are subclasses of :class:`errors.OnnxExporterError`.\u001B[39;00m\n\u001B[1;32m    502\u001B[0m \u001B[38;5;124;03m    \"\"\"\u001B[39;00m\n\u001B[0;32m--> 504\u001B[0m     \u001B[43m_export\u001B[49m\u001B[43m(\u001B[49m\n\u001B[1;32m    505\u001B[0m \u001B[43m        \u001B[49m\u001B[43mmodel\u001B[49m\u001B[43m,\u001B[49m\n\u001B[1;32m    506\u001B[0m \u001B[43m        \u001B[49m\u001B[43margs\u001B[49m\u001B[43m,\u001B[49m\n\u001B[1;32m    507\u001B[0m \u001B[43m        \u001B[49m\u001B[43mf\u001B[49m\u001B[43m,\u001B[49m\n\u001B[1;32m    508\u001B[0m \u001B[43m        \u001B[49m\u001B[43mexport_params\u001B[49m\u001B[43m,\u001B[49m\n\u001B[1;32m    509\u001B[0m \u001B[43m        \u001B[49m\u001B[43mverbose\u001B[49m\u001B[43m,\u001B[49m\n\u001B[1;32m    510\u001B[0m \u001B[43m        \u001B[49m\u001B[43mtraining\u001B[49m\u001B[43m,\u001B[49m\n\u001B[1;32m    511\u001B[0m \u001B[43m        \u001B[49m\u001B[43minput_names\u001B[49m\u001B[43m,\u001B[49m\n\u001B[1;32m    512\u001B[0m \u001B[43m        \u001B[49m\u001B[43moutput_names\u001B[49m\u001B[43m,\u001B[49m\n\u001B[1;32m    513\u001B[0m \u001B[43m        \u001B[49m\u001B[43moperator_export_type\u001B[49m\u001B[38;5;241;43m=\u001B[39;49m\u001B[43moperator_export_type\u001B[49m\u001B[43m,\u001B[49m\n\u001B[1;32m    514\u001B[0m \u001B[43m        \u001B[49m\u001B[43mopset_version\u001B[49m\u001B[38;5;241;43m=\u001B[39;49m\u001B[43mopset_version\u001B[49m\u001B[43m,\u001B[49m\n\u001B[1;32m    515\u001B[0m \u001B[43m        \u001B[49m\u001B[43mdo_constant_folding\u001B[49m\u001B[38;5;241;43m=\u001B[39;49m\u001B[43mdo_constant_folding\u001B[49m\u001B[43m,\u001B[49m\n\u001B[1;32m    516\u001B[0m \u001B[43m        \u001B[49m\u001B[43mdynamic_axes\u001B[49m\u001B[38;5;241;43m=\u001B[39;49m\u001B[43mdynamic_axes\u001B[49m\u001B[43m,\u001B[49m\n\u001B[1;32m    517\u001B[0m \u001B[43m        \u001B[49m\u001B[43mkeep_initializers_as_inputs\u001B[49m\u001B[38;5;241;43m=\u001B[39;49m\u001B[43mkeep_initializers_as_inputs\u001B[49m\u001B[43m,\u001B[49m\n\u001B[1;32m    518\u001B[0m \u001B[43m        \u001B[49m\u001B[43mcustom_opsets\u001B[49m\u001B[38;5;241;43m=\u001B[39;49m\u001B[43mcustom_opsets\u001B[49m\u001B[43m,\u001B[49m\n\u001B[1;32m    519\u001B[0m \u001B[43m        \u001B[49m\u001B[43mexport_modules_as_functions\u001B[49m\u001B[38;5;241;43m=\u001B[39;49m\u001B[43mexport_modules_as_functions\u001B[49m\u001B[43m,\u001B[49m\n\u001B[1;32m    520\u001B[0m \u001B[43m    \u001B[49m\u001B[43m)\u001B[49m\n",
      "File \u001B[0;32m~/workspace/Fedot.Industrial/venv/lib/python3.10/site-packages/torch/onnx/utils.py:1506\u001B[0m, in \u001B[0;36m_export\u001B[0;34m(model, args, f, export_params, verbose, training, input_names, output_names, operator_export_type, export_type, opset_version, do_constant_folding, dynamic_axes, keep_initializers_as_inputs, fixed_batch_size, custom_opsets, add_node_names, onnx_shape_inference, export_modules_as_functions)\u001B[0m\n\u001B[1;32m   1501\u001B[0m \u001B[38;5;28;01mif\u001B[39;00m \u001B[38;5;28misinstance\u001B[39m(model, (torch\u001B[38;5;241m.\u001B[39mnn\u001B[38;5;241m.\u001B[39mModule, torch\u001B[38;5;241m.\u001B[39mjit\u001B[38;5;241m.\u001B[39mScriptModule)):\n\u001B[1;32m   1502\u001B[0m     module_typenames_to_export_as_functions \u001B[38;5;241m=\u001B[39m _setup_trace_module_map(\n\u001B[1;32m   1503\u001B[0m         model, export_modules_as_functions\n\u001B[1;32m   1504\u001B[0m     )\n\u001B[0;32m-> 1506\u001B[0m \u001B[38;5;28;01mwith\u001B[39;00m exporter_context(model, training, verbose):\n\u001B[1;32m   1507\u001B[0m     val_keep_init_as_ip \u001B[38;5;241m=\u001B[39m _decide_keep_init_as_input(\n\u001B[1;32m   1508\u001B[0m         keep_initializers_as_inputs,\n\u001B[1;32m   1509\u001B[0m         operator_export_type,\n\u001B[1;32m   1510\u001B[0m         opset_version,\n\u001B[1;32m   1511\u001B[0m     )\n\u001B[1;32m   1512\u001B[0m     val_add_node_names \u001B[38;5;241m=\u001B[39m _decide_add_node_names(\n\u001B[1;32m   1513\u001B[0m         add_node_names, operator_export_type\n\u001B[1;32m   1514\u001B[0m     )\n",
      "File \u001B[0;32m/usr/lib/python3.10/contextlib.py:153\u001B[0m, in \u001B[0;36m_GeneratorContextManager.__exit__\u001B[0;34m(self, typ, value, traceback)\u001B[0m\n\u001B[1;32m    151\u001B[0m     value \u001B[38;5;241m=\u001B[39m typ()\n\u001B[1;32m    152\u001B[0m \u001B[38;5;28;01mtry\u001B[39;00m:\n\u001B[0;32m--> 153\u001B[0m     \u001B[38;5;28;43mself\u001B[39;49m\u001B[38;5;241;43m.\u001B[39;49m\u001B[43mgen\u001B[49m\u001B[38;5;241;43m.\u001B[39;49m\u001B[43mthrow\u001B[49m\u001B[43m(\u001B[49m\u001B[43mtyp\u001B[49m\u001B[43m,\u001B[49m\u001B[43m \u001B[49m\u001B[43mvalue\u001B[49m\u001B[43m,\u001B[49m\u001B[43m \u001B[49m\u001B[43mtraceback\u001B[49m\u001B[43m)\u001B[49m\n\u001B[1;32m    154\u001B[0m \u001B[38;5;28;01mexcept\u001B[39;00m \u001B[38;5;167;01mStopIteration\u001B[39;00m \u001B[38;5;28;01mas\u001B[39;00m exc:\n\u001B[1;32m    155\u001B[0m     \u001B[38;5;66;03m# Suppress StopIteration *unless* it's the same exception that\u001B[39;00m\n\u001B[1;32m    156\u001B[0m     \u001B[38;5;66;03m# was passed to throw().  This prevents a StopIteration\u001B[39;00m\n\u001B[1;32m    157\u001B[0m     \u001B[38;5;66;03m# raised inside the \"with\" statement from being suppressed.\u001B[39;00m\n\u001B[1;32m    158\u001B[0m     \u001B[38;5;28;01mreturn\u001B[39;00m exc \u001B[38;5;129;01mis\u001B[39;00m \u001B[38;5;129;01mnot\u001B[39;00m value\n",
      "File \u001B[0;32m~/workspace/Fedot.Industrial/venv/lib/python3.10/site-packages/torch/onnx/utils.py:176\u001B[0m, in \u001B[0;36mexporter_context\u001B[0;34m(model, mode, verbose)\u001B[0m\n\u001B[1;32m    173\u001B[0m \u001B[38;5;129m@contextlib\u001B[39m\u001B[38;5;241m.\u001B[39mcontextmanager\n\u001B[1;32m    174\u001B[0m \u001B[38;5;129m@_beartype\u001B[39m\u001B[38;5;241m.\u001B[39mbeartype\n\u001B[1;32m    175\u001B[0m \u001B[38;5;28;01mdef\u001B[39;00m \u001B[38;5;21mexporter_context\u001B[39m(model, mode: _C_onnx\u001B[38;5;241m.\u001B[39mTrainingMode, verbose: \u001B[38;5;28mbool\u001B[39m):\n\u001B[0;32m--> 176\u001B[0m     \u001B[38;5;28;01mwith\u001B[39;00m select_model_mode_for_export(\n\u001B[1;32m    177\u001B[0m         model, mode\n\u001B[1;32m    178\u001B[0m     ) \u001B[38;5;28;01mas\u001B[39;00m mode_ctx, disable_apex_o2_state_dict_hook(\n\u001B[1;32m    179\u001B[0m         model\n\u001B[1;32m    180\u001B[0m     ) \u001B[38;5;28;01mas\u001B[39;00m apex_ctx, setup_onnx_logging(\n\u001B[1;32m    181\u001B[0m         verbose\n\u001B[1;32m    182\u001B[0m     ) \u001B[38;5;28;01mas\u001B[39;00m log_ctx, diagnostics\u001B[38;5;241m.\u001B[39mcreate_export_diagnostic_context() \u001B[38;5;28;01mas\u001B[39;00m diagnostic_ctx:\n\u001B[1;32m    183\u001B[0m         \u001B[38;5;28;01myield\u001B[39;00m (mode_ctx, apex_ctx, log_ctx, diagnostic_ctx)\n",
      "File \u001B[0;32m/usr/lib/python3.10/contextlib.py:153\u001B[0m, in \u001B[0;36m_GeneratorContextManager.__exit__\u001B[0;34m(self, typ, value, traceback)\u001B[0m\n\u001B[1;32m    151\u001B[0m     value \u001B[38;5;241m=\u001B[39m typ()\n\u001B[1;32m    152\u001B[0m \u001B[38;5;28;01mtry\u001B[39;00m:\n\u001B[0;32m--> 153\u001B[0m     \u001B[38;5;28;43mself\u001B[39;49m\u001B[38;5;241;43m.\u001B[39;49m\u001B[43mgen\u001B[49m\u001B[38;5;241;43m.\u001B[39;49m\u001B[43mthrow\u001B[49m\u001B[43m(\u001B[49m\u001B[43mtyp\u001B[49m\u001B[43m,\u001B[49m\u001B[43m \u001B[49m\u001B[43mvalue\u001B[49m\u001B[43m,\u001B[49m\u001B[43m \u001B[49m\u001B[43mtraceback\u001B[49m\u001B[43m)\u001B[49m\n\u001B[1;32m    154\u001B[0m \u001B[38;5;28;01mexcept\u001B[39;00m \u001B[38;5;167;01mStopIteration\u001B[39;00m \u001B[38;5;28;01mas\u001B[39;00m exc:\n\u001B[1;32m    155\u001B[0m     \u001B[38;5;66;03m# Suppress StopIteration *unless* it's the same exception that\u001B[39;00m\n\u001B[1;32m    156\u001B[0m     \u001B[38;5;66;03m# was passed to throw().  This prevents a StopIteration\u001B[39;00m\n\u001B[1;32m    157\u001B[0m     \u001B[38;5;66;03m# raised inside the \"with\" statement from being suppressed.\u001B[39;00m\n\u001B[1;32m    158\u001B[0m     \u001B[38;5;28;01mreturn\u001B[39;00m exc \u001B[38;5;129;01mis\u001B[39;00m \u001B[38;5;129;01mnot\u001B[39;00m value\n",
      "File \u001B[0;32m~/workspace/Fedot.Industrial/venv/lib/python3.10/site-packages/torch/onnx/utils.py:123\u001B[0m, in \u001B[0;36mselect_model_mode_for_export\u001B[0;34m(model, mode)\u001B[0m\n\u001B[1;32m    121\u001B[0m \u001B[38;5;28;01mfinally\u001B[39;00m:\n\u001B[1;32m    122\u001B[0m     \u001B[38;5;28;01mif\u001B[39;00m \u001B[38;5;28mhasattr\u001B[39m(model, \u001B[38;5;124m\"\u001B[39m\u001B[38;5;124mtraining\u001B[39m\u001B[38;5;124m\"\u001B[39m) \u001B[38;5;129;01mand\u001B[39;00m \u001B[38;5;129;01mnot\u001B[39;00m mode \u001B[38;5;241m==\u001B[39m _C_onnx\u001B[38;5;241m.\u001B[39mTrainingMode\u001B[38;5;241m.\u001B[39mPRESERVE:\n\u001B[0;32m--> 123\u001B[0m         \u001B[43mmodel\u001B[49m\u001B[38;5;241;43m.\u001B[39;49m\u001B[43mtrain\u001B[49m\u001B[43m(\u001B[49m\u001B[43moriginally_training\u001B[49m\u001B[43m)\u001B[49m\n",
      "File \u001B[0;32m~/workspace/Fedot.Industrial/venv/lib/python3.10/site-packages/torch/nn/modules/module.py:1911\u001B[0m, in \u001B[0;36mModule.train\u001B[0;34m(self, mode)\u001B[0m\n\u001B[1;32m   1909\u001B[0m \u001B[38;5;28mself\u001B[39m\u001B[38;5;241m.\u001B[39mtraining \u001B[38;5;241m=\u001B[39m mode\n\u001B[1;32m   1910\u001B[0m \u001B[38;5;28;01mfor\u001B[39;00m module \u001B[38;5;129;01min\u001B[39;00m \u001B[38;5;28mself\u001B[39m\u001B[38;5;241m.\u001B[39mchildren():\n\u001B[0;32m-> 1911\u001B[0m     \u001B[43mmodule\u001B[49m\u001B[38;5;241;43m.\u001B[39;49m\u001B[43mtrain\u001B[49m\u001B[43m(\u001B[49m\u001B[43mmode\u001B[49m\u001B[43m)\u001B[49m\n\u001B[1;32m   1912\u001B[0m \u001B[38;5;28;01mreturn\u001B[39;00m \u001B[38;5;28mself\u001B[39m\n",
      "File \u001B[0;32m~/workspace/Fedot.Industrial/venv/lib/python3.10/site-packages/torch/nn/modules/module.py:1911\u001B[0m, in \u001B[0;36mModule.train\u001B[0;34m(self, mode)\u001B[0m\n\u001B[1;32m   1909\u001B[0m \u001B[38;5;28mself\u001B[39m\u001B[38;5;241m.\u001B[39mtraining \u001B[38;5;241m=\u001B[39m mode\n\u001B[1;32m   1910\u001B[0m \u001B[38;5;28;01mfor\u001B[39;00m module \u001B[38;5;129;01min\u001B[39;00m \u001B[38;5;28mself\u001B[39m\u001B[38;5;241m.\u001B[39mchildren():\n\u001B[0;32m-> 1911\u001B[0m     \u001B[43mmodule\u001B[49m\u001B[38;5;241;43m.\u001B[39;49m\u001B[43mtrain\u001B[49m\u001B[43m(\u001B[49m\u001B[43mmode\u001B[49m\u001B[43m)\u001B[49m\n\u001B[1;32m   1912\u001B[0m \u001B[38;5;28;01mreturn\u001B[39;00m \u001B[38;5;28mself\u001B[39m\n",
      "File \u001B[0;32m~/workspace/Fedot.Industrial/venv/lib/python3.10/site-packages/torch/nn/modules/module.py:1911\u001B[0m, in \u001B[0;36mModule.train\u001B[0;34m(self, mode)\u001B[0m\n\u001B[1;32m   1909\u001B[0m \u001B[38;5;28mself\u001B[39m\u001B[38;5;241m.\u001B[39mtraining \u001B[38;5;241m=\u001B[39m mode\n\u001B[1;32m   1910\u001B[0m \u001B[38;5;28;01mfor\u001B[39;00m module \u001B[38;5;129;01min\u001B[39;00m \u001B[38;5;28mself\u001B[39m\u001B[38;5;241m.\u001B[39mchildren():\n\u001B[0;32m-> 1911\u001B[0m     \u001B[43mmodule\u001B[49m\u001B[38;5;241;43m.\u001B[39;49m\u001B[43mtrain\u001B[49m\u001B[43m(\u001B[49m\u001B[43mmode\u001B[49m\u001B[43m)\u001B[49m\n\u001B[1;32m   1912\u001B[0m \u001B[38;5;28;01mreturn\u001B[39;00m \u001B[38;5;28mself\u001B[39m\n",
      "File \u001B[0;32m~/workspace/Fedot.Industrial/venv/lib/python3.10/site-packages/torch/nn/modules/module.py:1909\u001B[0m, in \u001B[0;36mModule.train\u001B[0;34m(self, mode)\u001B[0m\n\u001B[1;32m   1907\u001B[0m \u001B[38;5;28;01mif\u001B[39;00m \u001B[38;5;129;01mnot\u001B[39;00m \u001B[38;5;28misinstance\u001B[39m(mode, \u001B[38;5;28mbool\u001B[39m):\n\u001B[1;32m   1908\u001B[0m     \u001B[38;5;28;01mraise\u001B[39;00m \u001B[38;5;167;01mValueError\u001B[39;00m(\u001B[38;5;124m\"\u001B[39m\u001B[38;5;124mtraining mode is expected to be boolean\u001B[39m\u001B[38;5;124m\"\u001B[39m)\n\u001B[0;32m-> 1909\u001B[0m \u001B[38;5;28;43mself\u001B[39;49m\u001B[38;5;241;43m.\u001B[39;49m\u001B[43mtraining\u001B[49m \u001B[38;5;241m=\u001B[39m mode\n\u001B[1;32m   1910\u001B[0m \u001B[38;5;28;01mfor\u001B[39;00m module \u001B[38;5;129;01min\u001B[39;00m \u001B[38;5;28mself\u001B[39m\u001B[38;5;241m.\u001B[39mchildren():\n\u001B[1;32m   1911\u001B[0m     module\u001B[38;5;241m.\u001B[39mtrain(mode)\n",
      "File \u001B[0;32m~/workspace/Fedot.Industrial/venv/lib/python3.10/site-packages/torch/nn/modules/module.py:1288\u001B[0m, in \u001B[0;36mModule.__setattr__\u001B[0;34m(self, name, value)\u001B[0m\n\u001B[1;32m   1286\u001B[0m     remove_from(\u001B[38;5;28mself\u001B[39m\u001B[38;5;241m.\u001B[39m\u001B[38;5;18m__dict__\u001B[39m, \u001B[38;5;28mself\u001B[39m\u001B[38;5;241m.\u001B[39m_buffers, \u001B[38;5;28mself\u001B[39m\u001B[38;5;241m.\u001B[39m_modules, \u001B[38;5;28mself\u001B[39m\u001B[38;5;241m.\u001B[39m_non_persistent_buffers_set)\n\u001B[1;32m   1287\u001B[0m     \u001B[38;5;28mself\u001B[39m\u001B[38;5;241m.\u001B[39mregister_parameter(name, value)\n\u001B[0;32m-> 1288\u001B[0m \u001B[38;5;28;01melif\u001B[39;00m params \u001B[38;5;129;01mis\u001B[39;00m \u001B[38;5;129;01mnot\u001B[39;00m \u001B[38;5;28;01mNone\u001B[39;00m \u001B[38;5;129;01mand\u001B[39;00m name \u001B[38;5;129;01min\u001B[39;00m params:\n\u001B[1;32m   1289\u001B[0m     \u001B[38;5;28;01mif\u001B[39;00m value \u001B[38;5;129;01mis\u001B[39;00m \u001B[38;5;129;01mnot\u001B[39;00m \u001B[38;5;28;01mNone\u001B[39;00m:\n\u001B[1;32m   1290\u001B[0m         \u001B[38;5;28;01mraise\u001B[39;00m \u001B[38;5;167;01mTypeError\u001B[39;00m(\u001B[38;5;124m\"\u001B[39m\u001B[38;5;124mcannot assign \u001B[39m\u001B[38;5;124m'\u001B[39m\u001B[38;5;132;01m{}\u001B[39;00m\u001B[38;5;124m'\u001B[39m\u001B[38;5;124m as parameter \u001B[39m\u001B[38;5;124m'\u001B[39m\u001B[38;5;132;01m{}\u001B[39;00m\u001B[38;5;124m'\u001B[39m\u001B[38;5;124m \u001B[39m\u001B[38;5;124m\"\u001B[39m\n\u001B[1;32m   1291\u001B[0m                         \u001B[38;5;124m\"\u001B[39m\u001B[38;5;124m(torch.nn.Parameter or None expected)\u001B[39m\u001B[38;5;124m\"\u001B[39m\n\u001B[1;32m   1292\u001B[0m                         \u001B[38;5;241m.\u001B[39mformat(torch\u001B[38;5;241m.\u001B[39mtypename(value), name))\n",
      "\u001B[0;31mKeyboardInterrupt\u001B[0m: "
     ]
    }
   ],
   "source": [
    "from core.operation.optimization.sfp_tools import prune_resnet\n",
    "from utils import convert_ONNX\n",
    "\n",
    "experimenter.model = prune_resnet(experimenter.model, mk=True)\n",
    "print(experimenter.size_of_model())\n",
    "print(flop(profile(experimenter.model, 'sfp_mk')))\n",
    "convert_ONNX(experimenter.model, 'sfp')"
   ],
   "metadata": {
    "collapsed": false
   }
  },
  {
   "cell_type": "code",
   "execution_count": null,
   "outputs": [],
   "source": [
    "experimenter.val_loop(dataloader=dl)"
   ],
   "metadata": {
    "collapsed": false
   }
  },
  {
   "cell_type": "code",
   "execution_count": 17,
   "outputs": [
    {
     "name": "stdout",
     "output_type": "stream",
     "text": [
      "2023-03-07 13:37:35,102 - SFPOptimization - Model loaded.\n",
      "32.50124\n",
      "aten::conv2d: 126824387280 flops, 53 calls\n",
      "aten::addmm: 21252 flops, 1 calls\n",
      "total: 126824408532\n"
     ]
    },
    {
     "name": "stderr",
     "output_type": "stream",
     "text": [
      "STAGE:2023-03-07 13:37:35 1262509:1262509 ActivityProfilerController.cpp:294] Completed Stage: Warm Up\n",
      "STAGE:2023-03-07 13:37:35 1262509:1262509 ActivityProfilerController.cpp:300] Completed Stage: Collection\n",
      "STAGE:2023-03-07 13:37:35 1262509:1262509 output_json.cpp:417] Completed Stage: Post Processing\n"
     ]
    }
   ],
   "source": [
    "from torchvision.models import resnet50\n",
    "\n",
    "from core.architecture.experiment.nn_experimenter import ClassificationExperimenter\n",
    "from core.operation.optimization.structure_optimization import SFPOptimization\n",
    "\n",
    "experimenter = ClassificationExperimenter(\n",
    "    model=resnet50(num_classes=7),\n",
    "    name='ResNet50_lrs'\n",
    ")\n",
    "sfp_optim = SFPOptimization(zeroing_mode='energy', zeroing_mode_params={'energy_threshold': 0.994})\n",
    "sfp_optim.load_model(exp=experimenter, state_dict_path='models/minerals(1920х1080)/ResNet50_lrs_SFP_energy_threshold-0.994/pruned.sd.pt')\n",
    "print(experimenter.size_of_model())\n",
    "flop(profile(experimenter.model, 'sfp_pruned'))"
   ],
   "metadata": {
    "collapsed": false
   }
  }
 ],
 "metadata": {
  "kernelspec": {
   "display_name": "Python 3",
   "language": "python",
   "name": "python3"
  },
  "language_info": {
   "codemirror_mode": {
    "name": "ipython",
    "version": 2
   },
   "file_extension": ".py",
   "mimetype": "text/x-python",
   "name": "python",
   "nbconvert_exporter": "python",
   "pygments_lexer": "ipython2",
   "version": "2.7.6"
  }
 },
 "nbformat": 4,
 "nbformat_minor": 0
}
