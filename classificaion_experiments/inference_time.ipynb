{
 "cells": [
  {
   "cell_type": "code",
   "execution_count": null,
   "metadata": {
    "collapsed": true
   },
   "outputs": [],
   "source": [
    "import time\n",
    "import pandas as pd\n",
    "from torch.utils.data import DataLoader\n",
    "from torchvision.transforms import Compose, ToTensor, Resize\n",
    "\n",
    "from core.architecture.datasets.prediction_datasets import PredictionFolderDataset\n",
    "\n",
    "dataset_path = '/media/n31v/data/datasets/Land-Use_Scene_Classification/images'\n",
    "transform = Compose([ToTensor(), Resize((256, 256))])\n",
    "prediction_ds = PredictionFolderDataset(dataset_path, transform=transform)\n",
    "prediction_dl = DataLoader(prediction_ds, batch_size=32, num_workers=8)\n",
    "inference_time = pd.DataFrame()"
   ]
  },
  {
   "cell_type": "code",
   "execution_count": null,
   "outputs": [],
   "source": [
    "from torchvision.models import resnet18\n",
    "from core.architecture.experiment.nn_experimenter import ClassificationExperimenter\n",
    "\n",
    "i_time = []\n",
    "for i in range(1, 6):\n",
    "    exp = ClassificationExperimenter(resnet18(num_classes=21))\n",
    "    exp.load_model(f'../models/Land-Use_Scene_Classification/ResNet18({i}fold)/train')\n",
    "    start = time.time()\n",
    "    exp.predict(prediction_dl)\n",
    "    i_time.append(time.time()-start)\n",
    "inference_time['Baseline'] = i_time"
   ],
   "metadata": {
    "collapsed": false
   }
  },
  {
   "cell_type": "code",
   "execution_count": null,
   "outputs": [],
   "source": [
    "from core.operation.optimization.structure_optimization import SFPOptimization\n",
    "\n",
    "sfp_optimization = SFPOptimization(pruning_ratio=0.5)\n",
    "i_time = []\n",
    "for i in range(1, 6):\n",
    "    exp = ClassificationExperimenter(resnet18(num_classes=21))\n",
    "    sfp_optimization.load_model(\n",
    "        exp=exp,\n",
    "        state_dict_path=f'../models/Land-Use_Scene_Classification/ResNet18({i}fold)_SFP_P-0.50/pruned.sd.pt'\n",
    "    )\n",
    "    start = time.time()\n",
    "    exp.predict(prediction_dl)\n",
    "    i_time.append(time.time()-start)\n",
    "inference_time['SFP 50%'] = i_time"
   ],
   "metadata": {
    "collapsed": false
   }
  },
  {
   "cell_type": "code",
   "execution_count": null,
   "outputs": [],
   "source": [
    "from core.operation.optimization.structure_optimization import SVDOptimization\n",
    "\n",
    "energy_thresholds = [\n",
    "    0.1, 0.3, 0.5, 0.7, 0.9,\n",
    "    0.91, 0.93, 0.95, 0.97, 0.99,\n",
    "    0.995, 0.999,\n",
    "    0.9999, 1\n",
    "]\n",
    "svd_optimization = SVDOptimization(energy_thresholds=energy_thresholds, decomposing_mode='spatial')\n",
    "for e in energy_thresholds:\n",
    "    i_time = []\n",
    "    for i in range(1, 6):\n",
    "        exp = ClassificationExperimenter(resnet18(num_classes=21))\n",
    "        svd_optimization.load_model(\n",
    "            exp=exp,\n",
    "            state_dict_path=f'../models/Land-Use_Scene_Classification/ResNet18({i}fold)_SVD_spatial_O-100.0_H-0.001000/e_{e}.sd.pt'\n",
    "        )\n",
    "        start = time.time()\n",
    "        exp.predict(prediction_dl)\n",
    "        i_time.append(time.time()-start)\n",
    "    inference_time[f'SVD e={e}'] = i_time"
   ],
   "metadata": {
    "collapsed": false
   }
  },
  {
   "cell_type": "code",
   "execution_count": null,
   "outputs": [],
   "source": [
    "svd_optimization = SVDOptimization(energy_thresholds=energy_thresholds)\n",
    "for e in energy_thresholds:\n",
    "    i_time = []\n",
    "    for i in range(1, 6):\n",
    "        exp = ClassificationExperimenter(resnet18(num_classes=21))\n",
    "        svd_optimization.load_model(\n",
    "            exp=exp,\n",
    "            state_dict_path=f'../models/Land-Use_Scene_Classification/ResNet18({i}fold)_SVD_channel_O-100.0_H-0.001000/e_{e}.sd.pt'\n",
    "        )\n",
    "        start = time.time()\n",
    "        exp.predict(prediction_dl)\n",
    "        i_time.append(time.time()-start)\n",
    "    inference_time[f'SVD e={e}'] = i_time"
   ],
   "metadata": {
    "collapsed": false
   }
  },
  {
   "cell_type": "code",
   "execution_count": null,
   "outputs": [],
   "source": [
    "inference_time.mean()"
   ],
   "metadata": {
    "collapsed": false
   }
  }
 ],
 "metadata": {
  "kernelspec": {
   "display_name": "Python 3",
   "language": "python",
   "name": "python3"
  },
  "language_info": {
   "codemirror_mode": {
    "name": "ipython",
    "version": 2
   },
   "file_extension": ".py",
   "mimetype": "text/x-python",
   "name": "python",
   "nbconvert_exporter": "python",
   "pygments_lexer": "ipython2",
   "version": "2.7.6"
  }
 },
 "nbformat": 4,
 "nbformat_minor": 0
}
