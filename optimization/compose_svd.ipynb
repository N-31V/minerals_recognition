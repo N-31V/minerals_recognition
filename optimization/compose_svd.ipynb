{
 "cells": [
  {
   "cell_type": "code",
   "execution_count": 14,
   "metadata": {
    "collapsed": true,
    "ExecuteTime": {
     "start_time": "2023-04-20T13:22:47.424314Z",
     "end_time": "2023-04-20T13:22:47.437278Z"
    }
   },
   "outputs": [],
   "source": [
    "import sys\n",
    "sys.path.append('../../Fedot.Industrial')\n",
    "\n",
    "from core.operation.optimization.svd_tools import load_svd_state_dict\n",
    "from core.operation.decomposition.decomposed_conv import DecomposedConv2d"
   ]
  },
  {
   "cell_type": "code",
   "execution_count": 11,
   "outputs": [],
   "source": [
    "def compose_model(model):\n",
    "    for module in filter(lambda x: isinstance(x, DecomposedConv2d), model.modules()):\n",
    "        module.compose()"
   ],
   "metadata": {
    "collapsed": false,
    "ExecuteTime": {
     "start_time": "2023-04-20T13:21:58.677451Z",
     "end_time": "2023-04-20T13:21:58.678797Z"
    }
   }
  },
  {
   "cell_type": "code",
   "execution_count": 15,
   "outputs": [],
   "source": [
    "from torchvision.models import resnet50\n",
    "import torch\n",
    "\n",
    "model = resnet50(num_classes=21)\n",
    "load_svd_state_dict(model=model, decomposing_mode='channel', state_dict_path='/media/n31v/data/results/LUSC/ResNet50_SVD_channel_O-10_H-0.1/0_0/train.sd.pt')\n",
    "compose_model(model)\n",
    "torch.save(model.state_dict(), 'ResNet50.sd.pt')"
   ],
   "metadata": {
    "collapsed": false,
    "ExecuteTime": {
     "start_time": "2023-04-20T13:23:37.419320Z",
     "end_time": "2023-04-20T13:23:39.013465Z"
    }
   }
  }
 ],
 "metadata": {
  "kernelspec": {
   "display_name": "Python 3",
   "language": "python",
   "name": "python3"
  },
  "language_info": {
   "codemirror_mode": {
    "name": "ipython",
    "version": 2
   },
   "file_extension": ".py",
   "mimetype": "text/x-python",
   "name": "python",
   "nbconvert_exporter": "python",
   "pygments_lexer": "ipython2",
   "version": "2.7.6"
  }
 },
 "nbformat": 4,
 "nbformat_minor": 0
}
